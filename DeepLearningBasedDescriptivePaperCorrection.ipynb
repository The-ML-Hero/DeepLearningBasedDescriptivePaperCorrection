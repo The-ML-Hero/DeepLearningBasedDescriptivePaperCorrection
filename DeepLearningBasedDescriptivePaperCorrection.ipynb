{
  "nbformat": 4,
  "nbformat_minor": 0,
  "metadata": {
    "colab": {
      "name": "OCR HandWriting WebApp.ipynb",
      "provenance": [],
      "collapsed_sections": [],
      "mount_file_id": "1uD0m_wMXCnMgmkS42Ddf1Y1pDlF7Y9fH",
      "authorship_tag": "ABX9TyNGhIqm3tymVLfTv2bW4Wma",
      "include_colab_link": true
    },
    "kernelspec": {
      "name": "python3",
      "display_name": "Python 3"
    },
    "accelerator": "GPU",
    "widgets": {
      "application/vnd.jupyter.widget-state+json": {
        "cf92f9e79b4e4a4c957f2cb1d63acc16": {
          "model_module": "@jupyter-widgets/controls",
          "model_name": "HBoxModel",
          "state": {
            "_view_name": "HBoxView",
            "_dom_classes": [],
            "_model_name": "HBoxModel",
            "_view_module": "@jupyter-widgets/controls",
            "_model_module_version": "1.5.0",
            "_view_count": null,
            "_view_module_version": "1.5.0",
            "box_style": "",
            "layout": "IPY_MODEL_cd18734a3bde43d0bfecdfc937b9fe7e",
            "_model_module": "@jupyter-widgets/controls",
            "children": [
              "IPY_MODEL_9dc7b7fcab50495ebe253210ce8880c5",
              "IPY_MODEL_1b179c5a66a84b99832239e1c09bc049"
            ]
          }
        },
        "cd18734a3bde43d0bfecdfc937b9fe7e": {
          "model_module": "@jupyter-widgets/base",
          "model_name": "LayoutModel",
          "state": {
            "_view_name": "LayoutView",
            "grid_template_rows": null,
            "right": null,
            "justify_content": null,
            "_view_module": "@jupyter-widgets/base",
            "overflow": null,
            "_model_module_version": "1.2.0",
            "_view_count": null,
            "flex_flow": null,
            "width": null,
            "min_width": null,
            "border": null,
            "align_items": null,
            "bottom": null,
            "_model_module": "@jupyter-widgets/base",
            "top": null,
            "grid_column": null,
            "overflow_y": null,
            "overflow_x": null,
            "grid_auto_flow": null,
            "grid_area": null,
            "grid_template_columns": null,
            "flex": null,
            "_model_name": "LayoutModel",
            "justify_items": null,
            "grid_row": null,
            "max_height": null,
            "align_content": null,
            "visibility": null,
            "align_self": null,
            "height": null,
            "min_height": null,
            "padding": null,
            "grid_auto_rows": null,
            "grid_gap": null,
            "max_width": null,
            "order": null,
            "_view_module_version": "1.2.0",
            "grid_template_areas": null,
            "object_position": null,
            "object_fit": null,
            "grid_auto_columns": null,
            "margin": null,
            "display": null,
            "left": null
          }
        },
        "9dc7b7fcab50495ebe253210ce8880c5": {
          "model_module": "@jupyter-widgets/controls",
          "model_name": "FloatProgressModel",
          "state": {
            "_view_name": "ProgressView",
            "style": "IPY_MODEL_5e016406553b4417909a0b73328afd0d",
            "_dom_classes": [],
            "description": "Downloading: 100%",
            "_model_name": "FloatProgressModel",
            "bar_style": "success",
            "max": 665,
            "_view_module": "@jupyter-widgets/controls",
            "_model_module_version": "1.5.0",
            "value": 665,
            "_view_count": null,
            "_view_module_version": "1.5.0",
            "orientation": "horizontal",
            "min": 0,
            "description_tooltip": null,
            "_model_module": "@jupyter-widgets/controls",
            "layout": "IPY_MODEL_4a2977714b2c4e4e982fb48f3d15604d"
          }
        },
        "1b179c5a66a84b99832239e1c09bc049": {
          "model_module": "@jupyter-widgets/controls",
          "model_name": "HTMLModel",
          "state": {
            "_view_name": "HTMLView",
            "style": "IPY_MODEL_544d83cc7cd94b2f8adfb240af395b24",
            "_dom_classes": [],
            "description": "",
            "_model_name": "HTMLModel",
            "placeholder": "​",
            "_view_module": "@jupyter-widgets/controls",
            "_model_module_version": "1.5.0",
            "value": " 665/665 [00:00&lt;00:00, 2.22kB/s]",
            "_view_count": null,
            "_view_module_version": "1.5.0",
            "description_tooltip": null,
            "_model_module": "@jupyter-widgets/controls",
            "layout": "IPY_MODEL_ce4e87facde24977ad7b9ff2000556d6"
          }
        },
        "5e016406553b4417909a0b73328afd0d": {
          "model_module": "@jupyter-widgets/controls",
          "model_name": "ProgressStyleModel",
          "state": {
            "_view_name": "StyleView",
            "_model_name": "ProgressStyleModel",
            "description_width": "initial",
            "_view_module": "@jupyter-widgets/base",
            "_model_module_version": "1.5.0",
            "_view_count": null,
            "_view_module_version": "1.2.0",
            "bar_color": null,
            "_model_module": "@jupyter-widgets/controls"
          }
        },
        "4a2977714b2c4e4e982fb48f3d15604d": {
          "model_module": "@jupyter-widgets/base",
          "model_name": "LayoutModel",
          "state": {
            "_view_name": "LayoutView",
            "grid_template_rows": null,
            "right": null,
            "justify_content": null,
            "_view_module": "@jupyter-widgets/base",
            "overflow": null,
            "_model_module_version": "1.2.0",
            "_view_count": null,
            "flex_flow": null,
            "width": null,
            "min_width": null,
            "border": null,
            "align_items": null,
            "bottom": null,
            "_model_module": "@jupyter-widgets/base",
            "top": null,
            "grid_column": null,
            "overflow_y": null,
            "overflow_x": null,
            "grid_auto_flow": null,
            "grid_area": null,
            "grid_template_columns": null,
            "flex": null,
            "_model_name": "LayoutModel",
            "justify_items": null,
            "grid_row": null,
            "max_height": null,
            "align_content": null,
            "visibility": null,
            "align_self": null,
            "height": null,
            "min_height": null,
            "padding": null,
            "grid_auto_rows": null,
            "grid_gap": null,
            "max_width": null,
            "order": null,
            "_view_module_version": "1.2.0",
            "grid_template_areas": null,
            "object_position": null,
            "object_fit": null,
            "grid_auto_columns": null,
            "margin": null,
            "display": null,
            "left": null
          }
        },
        "544d83cc7cd94b2f8adfb240af395b24": {
          "model_module": "@jupyter-widgets/controls",
          "model_name": "DescriptionStyleModel",
          "state": {
            "_view_name": "StyleView",
            "_model_name": "DescriptionStyleModel",
            "description_width": "",
            "_view_module": "@jupyter-widgets/base",
            "_model_module_version": "1.5.0",
            "_view_count": null,
            "_view_module_version": "1.2.0",
            "_model_module": "@jupyter-widgets/controls"
          }
        },
        "ce4e87facde24977ad7b9ff2000556d6": {
          "model_module": "@jupyter-widgets/base",
          "model_name": "LayoutModel",
          "state": {
            "_view_name": "LayoutView",
            "grid_template_rows": null,
            "right": null,
            "justify_content": null,
            "_view_module": "@jupyter-widgets/base",
            "overflow": null,
            "_model_module_version": "1.2.0",
            "_view_count": null,
            "flex_flow": null,
            "width": null,
            "min_width": null,
            "border": null,
            "align_items": null,
            "bottom": null,
            "_model_module": "@jupyter-widgets/base",
            "top": null,
            "grid_column": null,
            "overflow_y": null,
            "overflow_x": null,
            "grid_auto_flow": null,
            "grid_area": null,
            "grid_template_columns": null,
            "flex": null,
            "_model_name": "LayoutModel",
            "justify_items": null,
            "grid_row": null,
            "max_height": null,
            "align_content": null,
            "visibility": null,
            "align_self": null,
            "height": null,
            "min_height": null,
            "padding": null,
            "grid_auto_rows": null,
            "grid_gap": null,
            "max_width": null,
            "order": null,
            "_view_module_version": "1.2.0",
            "grid_template_areas": null,
            "object_position": null,
            "object_fit": null,
            "grid_auto_columns": null,
            "margin": null,
            "display": null,
            "left": null
          }
        },
        "503615d8f9cc488281bcf4f1e37014e3": {
          "model_module": "@jupyter-widgets/controls",
          "model_name": "HBoxModel",
          "state": {
            "_view_name": "HBoxView",
            "_dom_classes": [],
            "_model_name": "HBoxModel",
            "_view_module": "@jupyter-widgets/controls",
            "_model_module_version": "1.5.0",
            "_view_count": null,
            "_view_module_version": "1.5.0",
            "box_style": "",
            "layout": "IPY_MODEL_b45cbbdeb2a143efb33c3c53459ec5f4",
            "_model_module": "@jupyter-widgets/controls",
            "children": [
              "IPY_MODEL_0373ab74fd4a4e64a022affa0b6fa0f1",
              "IPY_MODEL_774319eeff1f42e0a1b0399b9896470f"
            ]
          }
        },
        "b45cbbdeb2a143efb33c3c53459ec5f4": {
          "model_module": "@jupyter-widgets/base",
          "model_name": "LayoutModel",
          "state": {
            "_view_name": "LayoutView",
            "grid_template_rows": null,
            "right": null,
            "justify_content": null,
            "_view_module": "@jupyter-widgets/base",
            "overflow": null,
            "_model_module_version": "1.2.0",
            "_view_count": null,
            "flex_flow": null,
            "width": null,
            "min_width": null,
            "border": null,
            "align_items": null,
            "bottom": null,
            "_model_module": "@jupyter-widgets/base",
            "top": null,
            "grid_column": null,
            "overflow_y": null,
            "overflow_x": null,
            "grid_auto_flow": null,
            "grid_area": null,
            "grid_template_columns": null,
            "flex": null,
            "_model_name": "LayoutModel",
            "justify_items": null,
            "grid_row": null,
            "max_height": null,
            "align_content": null,
            "visibility": null,
            "align_self": null,
            "height": null,
            "min_height": null,
            "padding": null,
            "grid_auto_rows": null,
            "grid_gap": null,
            "max_width": null,
            "order": null,
            "_view_module_version": "1.2.0",
            "grid_template_areas": null,
            "object_position": null,
            "object_fit": null,
            "grid_auto_columns": null,
            "margin": null,
            "display": null,
            "left": null
          }
        },
        "0373ab74fd4a4e64a022affa0b6fa0f1": {
          "model_module": "@jupyter-widgets/controls",
          "model_name": "FloatProgressModel",
          "state": {
            "_view_name": "ProgressView",
            "style": "IPY_MODEL_ae611ca3cef048048ffa6084934310b7",
            "_dom_classes": [],
            "description": "Downloading: 100%",
            "_model_name": "FloatProgressModel",
            "bar_style": "success",
            "max": 548118077,
            "_view_module": "@jupyter-widgets/controls",
            "_model_module_version": "1.5.0",
            "value": 548118077,
            "_view_count": null,
            "_view_module_version": "1.5.0",
            "orientation": "horizontal",
            "min": 0,
            "description_tooltip": null,
            "_model_module": "@jupyter-widgets/controls",
            "layout": "IPY_MODEL_595cbfccf07e4c21b1719e6c30cda706"
          }
        },
        "774319eeff1f42e0a1b0399b9896470f": {
          "model_module": "@jupyter-widgets/controls",
          "model_name": "HTMLModel",
          "state": {
            "_view_name": "HTMLView",
            "style": "IPY_MODEL_b91e9b4353f543abbbcb6be34b14b380",
            "_dom_classes": [],
            "description": "",
            "_model_name": "HTMLModel",
            "placeholder": "​",
            "_view_module": "@jupyter-widgets/controls",
            "_model_module_version": "1.5.0",
            "value": " 548M/548M [00:21&lt;00:00, 25.2MB/s]",
            "_view_count": null,
            "_view_module_version": "1.5.0",
            "description_tooltip": null,
            "_model_module": "@jupyter-widgets/controls",
            "layout": "IPY_MODEL_98c8c93131f44606b2c26e0926831d65"
          }
        },
        "ae611ca3cef048048ffa6084934310b7": {
          "model_module": "@jupyter-widgets/controls",
          "model_name": "ProgressStyleModel",
          "state": {
            "_view_name": "StyleView",
            "_model_name": "ProgressStyleModel",
            "description_width": "initial",
            "_view_module": "@jupyter-widgets/base",
            "_model_module_version": "1.5.0",
            "_view_count": null,
            "_view_module_version": "1.2.0",
            "bar_color": null,
            "_model_module": "@jupyter-widgets/controls"
          }
        },
        "595cbfccf07e4c21b1719e6c30cda706": {
          "model_module": "@jupyter-widgets/base",
          "model_name": "LayoutModel",
          "state": {
            "_view_name": "LayoutView",
            "grid_template_rows": null,
            "right": null,
            "justify_content": null,
            "_view_module": "@jupyter-widgets/base",
            "overflow": null,
            "_model_module_version": "1.2.0",
            "_view_count": null,
            "flex_flow": null,
            "width": null,
            "min_width": null,
            "border": null,
            "align_items": null,
            "bottom": null,
            "_model_module": "@jupyter-widgets/base",
            "top": null,
            "grid_column": null,
            "overflow_y": null,
            "overflow_x": null,
            "grid_auto_flow": null,
            "grid_area": null,
            "grid_template_columns": null,
            "flex": null,
            "_model_name": "LayoutModel",
            "justify_items": null,
            "grid_row": null,
            "max_height": null,
            "align_content": null,
            "visibility": null,
            "align_self": null,
            "height": null,
            "min_height": null,
            "padding": null,
            "grid_auto_rows": null,
            "grid_gap": null,
            "max_width": null,
            "order": null,
            "_view_module_version": "1.2.0",
            "grid_template_areas": null,
            "object_position": null,
            "object_fit": null,
            "grid_auto_columns": null,
            "margin": null,
            "display": null,
            "left": null
          }
        },
        "b91e9b4353f543abbbcb6be34b14b380": {
          "model_module": "@jupyter-widgets/controls",
          "model_name": "DescriptionStyleModel",
          "state": {
            "_view_name": "StyleView",
            "_model_name": "DescriptionStyleModel",
            "description_width": "",
            "_view_module": "@jupyter-widgets/base",
            "_model_module_version": "1.5.0",
            "_view_count": null,
            "_view_module_version": "1.2.0",
            "_model_module": "@jupyter-widgets/controls"
          }
        },
        "98c8c93131f44606b2c26e0926831d65": {
          "model_module": "@jupyter-widgets/base",
          "model_name": "LayoutModel",
          "state": {
            "_view_name": "LayoutView",
            "grid_template_rows": null,
            "right": null,
            "justify_content": null,
            "_view_module": "@jupyter-widgets/base",
            "overflow": null,
            "_model_module_version": "1.2.0",
            "_view_count": null,
            "flex_flow": null,
            "width": null,
            "min_width": null,
            "border": null,
            "align_items": null,
            "bottom": null,
            "_model_module": "@jupyter-widgets/base",
            "top": null,
            "grid_column": null,
            "overflow_y": null,
            "overflow_x": null,
            "grid_auto_flow": null,
            "grid_area": null,
            "grid_template_columns": null,
            "flex": null,
            "_model_name": "LayoutModel",
            "justify_items": null,
            "grid_row": null,
            "max_height": null,
            "align_content": null,
            "visibility": null,
            "align_self": null,
            "height": null,
            "min_height": null,
            "padding": null,
            "grid_auto_rows": null,
            "grid_gap": null,
            "max_width": null,
            "order": null,
            "_view_module_version": "1.2.0",
            "grid_template_areas": null,
            "object_position": null,
            "object_fit": null,
            "grid_auto_columns": null,
            "margin": null,
            "display": null,
            "left": null
          }
        },
        "ca64cae3510b4b958bbafcf5a4133781": {
          "model_module": "@jupyter-widgets/controls",
          "model_name": "HBoxModel",
          "state": {
            "_view_name": "HBoxView",
            "_dom_classes": [],
            "_model_name": "HBoxModel",
            "_view_module": "@jupyter-widgets/controls",
            "_model_module_version": "1.5.0",
            "_view_count": null,
            "_view_module_version": "1.5.0",
            "box_style": "",
            "layout": "IPY_MODEL_33cb8e5fac764da2b31c12b226b70221",
            "_model_module": "@jupyter-widgets/controls",
            "children": [
              "IPY_MODEL_8da967f910fa4a679b7ed9c0ab14cbff",
              "IPY_MODEL_4a8f757b0fbe40efb30c64ac850fa272"
            ]
          }
        },
        "33cb8e5fac764da2b31c12b226b70221": {
          "model_module": "@jupyter-widgets/base",
          "model_name": "LayoutModel",
          "state": {
            "_view_name": "LayoutView",
            "grid_template_rows": null,
            "right": null,
            "justify_content": null,
            "_view_module": "@jupyter-widgets/base",
            "overflow": null,
            "_model_module_version": "1.2.0",
            "_view_count": null,
            "flex_flow": null,
            "width": null,
            "min_width": null,
            "border": null,
            "align_items": null,
            "bottom": null,
            "_model_module": "@jupyter-widgets/base",
            "top": null,
            "grid_column": null,
            "overflow_y": null,
            "overflow_x": null,
            "grid_auto_flow": null,
            "grid_area": null,
            "grid_template_columns": null,
            "flex": null,
            "_model_name": "LayoutModel",
            "justify_items": null,
            "grid_row": null,
            "max_height": null,
            "align_content": null,
            "visibility": null,
            "align_self": null,
            "height": null,
            "min_height": null,
            "padding": null,
            "grid_auto_rows": null,
            "grid_gap": null,
            "max_width": null,
            "order": null,
            "_view_module_version": "1.2.0",
            "grid_template_areas": null,
            "object_position": null,
            "object_fit": null,
            "grid_auto_columns": null,
            "margin": null,
            "display": null,
            "left": null
          }
        },
        "8da967f910fa4a679b7ed9c0ab14cbff": {
          "model_module": "@jupyter-widgets/controls",
          "model_name": "FloatProgressModel",
          "state": {
            "_view_name": "ProgressView",
            "style": "IPY_MODEL_45b9fa9ffc214172ab4f8e8150819b7f",
            "_dom_classes": [],
            "description": "Downloading: 100%",
            "_model_name": "FloatProgressModel",
            "bar_style": "success",
            "max": 1042301,
            "_view_module": "@jupyter-widgets/controls",
            "_model_module_version": "1.5.0",
            "value": 1042301,
            "_view_count": null,
            "_view_module_version": "1.5.0",
            "orientation": "horizontal",
            "min": 0,
            "description_tooltip": null,
            "_model_module": "@jupyter-widgets/controls",
            "layout": "IPY_MODEL_507f9878855346ef8a0cc3a8d031554f"
          }
        },
        "4a8f757b0fbe40efb30c64ac850fa272": {
          "model_module": "@jupyter-widgets/controls",
          "model_name": "HTMLModel",
          "state": {
            "_view_name": "HTMLView",
            "style": "IPY_MODEL_835b5bb5066e4c558889f17950326424",
            "_dom_classes": [],
            "description": "",
            "_model_name": "HTMLModel",
            "placeholder": "​",
            "_view_module": "@jupyter-widgets/controls",
            "_model_module_version": "1.5.0",
            "value": " 1.04M/1.04M [00:01&lt;00:00, 656kB/s]",
            "_view_count": null,
            "_view_module_version": "1.5.0",
            "description_tooltip": null,
            "_model_module": "@jupyter-widgets/controls",
            "layout": "IPY_MODEL_bc5f171373ce49019c26c6eb1d750ca9"
          }
        },
        "45b9fa9ffc214172ab4f8e8150819b7f": {
          "model_module": "@jupyter-widgets/controls",
          "model_name": "ProgressStyleModel",
          "state": {
            "_view_name": "StyleView",
            "_model_name": "ProgressStyleModel",
            "description_width": "initial",
            "_view_module": "@jupyter-widgets/base",
            "_model_module_version": "1.5.0",
            "_view_count": null,
            "_view_module_version": "1.2.0",
            "bar_color": null,
            "_model_module": "@jupyter-widgets/controls"
          }
        },
        "507f9878855346ef8a0cc3a8d031554f": {
          "model_module": "@jupyter-widgets/base",
          "model_name": "LayoutModel",
          "state": {
            "_view_name": "LayoutView",
            "grid_template_rows": null,
            "right": null,
            "justify_content": null,
            "_view_module": "@jupyter-widgets/base",
            "overflow": null,
            "_model_module_version": "1.2.0",
            "_view_count": null,
            "flex_flow": null,
            "width": null,
            "min_width": null,
            "border": null,
            "align_items": null,
            "bottom": null,
            "_model_module": "@jupyter-widgets/base",
            "top": null,
            "grid_column": null,
            "overflow_y": null,
            "overflow_x": null,
            "grid_auto_flow": null,
            "grid_area": null,
            "grid_template_columns": null,
            "flex": null,
            "_model_name": "LayoutModel",
            "justify_items": null,
            "grid_row": null,
            "max_height": null,
            "align_content": null,
            "visibility": null,
            "align_self": null,
            "height": null,
            "min_height": null,
            "padding": null,
            "grid_auto_rows": null,
            "grid_gap": null,
            "max_width": null,
            "order": null,
            "_view_module_version": "1.2.0",
            "grid_template_areas": null,
            "object_position": null,
            "object_fit": null,
            "grid_auto_columns": null,
            "margin": null,
            "display": null,
            "left": null
          }
        },
        "835b5bb5066e4c558889f17950326424": {
          "model_module": "@jupyter-widgets/controls",
          "model_name": "DescriptionStyleModel",
          "state": {
            "_view_name": "StyleView",
            "_model_name": "DescriptionStyleModel",
            "description_width": "",
            "_view_module": "@jupyter-widgets/base",
            "_model_module_version": "1.5.0",
            "_view_count": null,
            "_view_module_version": "1.2.0",
            "_model_module": "@jupyter-widgets/controls"
          }
        },
        "bc5f171373ce49019c26c6eb1d750ca9": {
          "model_module": "@jupyter-widgets/base",
          "model_name": "LayoutModel",
          "state": {
            "_view_name": "LayoutView",
            "grid_template_rows": null,
            "right": null,
            "justify_content": null,
            "_view_module": "@jupyter-widgets/base",
            "overflow": null,
            "_model_module_version": "1.2.0",
            "_view_count": null,
            "flex_flow": null,
            "width": null,
            "min_width": null,
            "border": null,
            "align_items": null,
            "bottom": null,
            "_model_module": "@jupyter-widgets/base",
            "top": null,
            "grid_column": null,
            "overflow_y": null,
            "overflow_x": null,
            "grid_auto_flow": null,
            "grid_area": null,
            "grid_template_columns": null,
            "flex": null,
            "_model_name": "LayoutModel",
            "justify_items": null,
            "grid_row": null,
            "max_height": null,
            "align_content": null,
            "visibility": null,
            "align_self": null,
            "height": null,
            "min_height": null,
            "padding": null,
            "grid_auto_rows": null,
            "grid_gap": null,
            "max_width": null,
            "order": null,
            "_view_module_version": "1.2.0",
            "grid_template_areas": null,
            "object_position": null,
            "object_fit": null,
            "grid_auto_columns": null,
            "margin": null,
            "display": null,
            "left": null
          }
        },
        "e0843c0cf73c4e2d9fc948e35c30e37b": {
          "model_module": "@jupyter-widgets/controls",
          "model_name": "HBoxModel",
          "state": {
            "_view_name": "HBoxView",
            "_dom_classes": [],
            "_model_name": "HBoxModel",
            "_view_module": "@jupyter-widgets/controls",
            "_model_module_version": "1.5.0",
            "_view_count": null,
            "_view_module_version": "1.5.0",
            "box_style": "",
            "layout": "IPY_MODEL_ba16cbe6cf1847659b862953c028d38a",
            "_model_module": "@jupyter-widgets/controls",
            "children": [
              "IPY_MODEL_5514bbcdc7fe4fae971b4364ef912f77",
              "IPY_MODEL_cfcee3f8ccad4fcc88ce6e4cfacfc550"
            ]
          }
        },
        "ba16cbe6cf1847659b862953c028d38a": {
          "model_module": "@jupyter-widgets/base",
          "model_name": "LayoutModel",
          "state": {
            "_view_name": "LayoutView",
            "grid_template_rows": null,
            "right": null,
            "justify_content": null,
            "_view_module": "@jupyter-widgets/base",
            "overflow": null,
            "_model_module_version": "1.2.0",
            "_view_count": null,
            "flex_flow": null,
            "width": null,
            "min_width": null,
            "border": null,
            "align_items": null,
            "bottom": null,
            "_model_module": "@jupyter-widgets/base",
            "top": null,
            "grid_column": null,
            "overflow_y": null,
            "overflow_x": null,
            "grid_auto_flow": null,
            "grid_area": null,
            "grid_template_columns": null,
            "flex": null,
            "_model_name": "LayoutModel",
            "justify_items": null,
            "grid_row": null,
            "max_height": null,
            "align_content": null,
            "visibility": null,
            "align_self": null,
            "height": null,
            "min_height": null,
            "padding": null,
            "grid_auto_rows": null,
            "grid_gap": null,
            "max_width": null,
            "order": null,
            "_view_module_version": "1.2.0",
            "grid_template_areas": null,
            "object_position": null,
            "object_fit": null,
            "grid_auto_columns": null,
            "margin": null,
            "display": null,
            "left": null
          }
        },
        "5514bbcdc7fe4fae971b4364ef912f77": {
          "model_module": "@jupyter-widgets/controls",
          "model_name": "FloatProgressModel",
          "state": {
            "_view_name": "ProgressView",
            "style": "IPY_MODEL_69f3e3d60fdd4fc09daa26002a19ada2",
            "_dom_classes": [],
            "description": "Downloading: 100%",
            "_model_name": "FloatProgressModel",
            "bar_style": "success",
            "max": 456318,
            "_view_module": "@jupyter-widgets/controls",
            "_model_module_version": "1.5.0",
            "value": 456318,
            "_view_count": null,
            "_view_module_version": "1.5.0",
            "orientation": "horizontal",
            "min": 0,
            "description_tooltip": null,
            "_model_module": "@jupyter-widgets/controls",
            "layout": "IPY_MODEL_13a1a8b4bf624e65bb3654d6db57970d"
          }
        },
        "cfcee3f8ccad4fcc88ce6e4cfacfc550": {
          "model_module": "@jupyter-widgets/controls",
          "model_name": "HTMLModel",
          "state": {
            "_view_name": "HTMLView",
            "style": "IPY_MODEL_3694c81916c34ae6a79b82138a0c1ea0",
            "_dom_classes": [],
            "description": "",
            "_model_name": "HTMLModel",
            "placeholder": "​",
            "_view_module": "@jupyter-widgets/controls",
            "_model_module_version": "1.5.0",
            "value": " 456k/456k [00:00&lt;00:00, 584kB/s]",
            "_view_count": null,
            "_view_module_version": "1.5.0",
            "description_tooltip": null,
            "_model_module": "@jupyter-widgets/controls",
            "layout": "IPY_MODEL_ac3468c1704849e0ac773738e9c1d19b"
          }
        },
        "69f3e3d60fdd4fc09daa26002a19ada2": {
          "model_module": "@jupyter-widgets/controls",
          "model_name": "ProgressStyleModel",
          "state": {
            "_view_name": "StyleView",
            "_model_name": "ProgressStyleModel",
            "description_width": "initial",
            "_view_module": "@jupyter-widgets/base",
            "_model_module_version": "1.5.0",
            "_view_count": null,
            "_view_module_version": "1.2.0",
            "bar_color": null,
            "_model_module": "@jupyter-widgets/controls"
          }
        },
        "13a1a8b4bf624e65bb3654d6db57970d": {
          "model_module": "@jupyter-widgets/base",
          "model_name": "LayoutModel",
          "state": {
            "_view_name": "LayoutView",
            "grid_template_rows": null,
            "right": null,
            "justify_content": null,
            "_view_module": "@jupyter-widgets/base",
            "overflow": null,
            "_model_module_version": "1.2.0",
            "_view_count": null,
            "flex_flow": null,
            "width": null,
            "min_width": null,
            "border": null,
            "align_items": null,
            "bottom": null,
            "_model_module": "@jupyter-widgets/base",
            "top": null,
            "grid_column": null,
            "overflow_y": null,
            "overflow_x": null,
            "grid_auto_flow": null,
            "grid_area": null,
            "grid_template_columns": null,
            "flex": null,
            "_model_name": "LayoutModel",
            "justify_items": null,
            "grid_row": null,
            "max_height": null,
            "align_content": null,
            "visibility": null,
            "align_self": null,
            "height": null,
            "min_height": null,
            "padding": null,
            "grid_auto_rows": null,
            "grid_gap": null,
            "max_width": null,
            "order": null,
            "_view_module_version": "1.2.0",
            "grid_template_areas": null,
            "object_position": null,
            "object_fit": null,
            "grid_auto_columns": null,
            "margin": null,
            "display": null,
            "left": null
          }
        },
        "3694c81916c34ae6a79b82138a0c1ea0": {
          "model_module": "@jupyter-widgets/controls",
          "model_name": "DescriptionStyleModel",
          "state": {
            "_view_name": "StyleView",
            "_model_name": "DescriptionStyleModel",
            "description_width": "",
            "_view_module": "@jupyter-widgets/base",
            "_model_module_version": "1.5.0",
            "_view_count": null,
            "_view_module_version": "1.2.0",
            "_model_module": "@jupyter-widgets/controls"
          }
        },
        "ac3468c1704849e0ac773738e9c1d19b": {
          "model_module": "@jupyter-widgets/base",
          "model_name": "LayoutModel",
          "state": {
            "_view_name": "LayoutView",
            "grid_template_rows": null,
            "right": null,
            "justify_content": null,
            "_view_module": "@jupyter-widgets/base",
            "overflow": null,
            "_model_module_version": "1.2.0",
            "_view_count": null,
            "flex_flow": null,
            "width": null,
            "min_width": null,
            "border": null,
            "align_items": null,
            "bottom": null,
            "_model_module": "@jupyter-widgets/base",
            "top": null,
            "grid_column": null,
            "overflow_y": null,
            "overflow_x": null,
            "grid_auto_flow": null,
            "grid_area": null,
            "grid_template_columns": null,
            "flex": null,
            "_model_name": "LayoutModel",
            "justify_items": null,
            "grid_row": null,
            "max_height": null,
            "align_content": null,
            "visibility": null,
            "align_self": null,
            "height": null,
            "min_height": null,
            "padding": null,
            "grid_auto_rows": null,
            "grid_gap": null,
            "max_width": null,
            "order": null,
            "_view_module_version": "1.2.0",
            "grid_template_areas": null,
            "object_position": null,
            "object_fit": null,
            "grid_auto_columns": null,
            "margin": null,
            "display": null,
            "left": null
          }
        },
        "7e3fb4523f9842dea191a5d8fda50d08": {
          "model_module": "@jupyter-widgets/controls",
          "model_name": "HBoxModel",
          "state": {
            "_view_name": "HBoxView",
            "_dom_classes": [],
            "_model_name": "HBoxModel",
            "_view_module": "@jupyter-widgets/controls",
            "_model_module_version": "1.5.0",
            "_view_count": null,
            "_view_module_version": "1.5.0",
            "box_style": "",
            "layout": "IPY_MODEL_57f7a24f0fe7417bb753fcc8a8b7b540",
            "_model_module": "@jupyter-widgets/controls",
            "children": [
              "IPY_MODEL_b1c85ca84d7d427b9c3b1504bcf7d328",
              "IPY_MODEL_251af6961f4a4f6cbbe23c985ee7a327"
            ]
          }
        },
        "57f7a24f0fe7417bb753fcc8a8b7b540": {
          "model_module": "@jupyter-widgets/base",
          "model_name": "LayoutModel",
          "state": {
            "_view_name": "LayoutView",
            "grid_template_rows": null,
            "right": null,
            "justify_content": null,
            "_view_module": "@jupyter-widgets/base",
            "overflow": null,
            "_model_module_version": "1.2.0",
            "_view_count": null,
            "flex_flow": null,
            "width": null,
            "min_width": null,
            "border": null,
            "align_items": null,
            "bottom": null,
            "_model_module": "@jupyter-widgets/base",
            "top": null,
            "grid_column": null,
            "overflow_y": null,
            "overflow_x": null,
            "grid_auto_flow": null,
            "grid_area": null,
            "grid_template_columns": null,
            "flex": null,
            "_model_name": "LayoutModel",
            "justify_items": null,
            "grid_row": null,
            "max_height": null,
            "align_content": null,
            "visibility": null,
            "align_self": null,
            "height": null,
            "min_height": null,
            "padding": null,
            "grid_auto_rows": null,
            "grid_gap": null,
            "max_width": null,
            "order": null,
            "_view_module_version": "1.2.0",
            "grid_template_areas": null,
            "object_position": null,
            "object_fit": null,
            "grid_auto_columns": null,
            "margin": null,
            "display": null,
            "left": null
          }
        },
        "b1c85ca84d7d427b9c3b1504bcf7d328": {
          "model_module": "@jupyter-widgets/controls",
          "model_name": "FloatProgressModel",
          "state": {
            "_view_name": "ProgressView",
            "style": "IPY_MODEL_d75795837bc84e72859683ccca2e058a",
            "_dom_classes": [],
            "description": "Downloading: 100%",
            "_model_name": "FloatProgressModel",
            "bar_style": "success",
            "max": 1355256,
            "_view_module": "@jupyter-widgets/controls",
            "_model_module_version": "1.5.0",
            "value": 1355256,
            "_view_count": null,
            "_view_module_version": "1.5.0",
            "orientation": "horizontal",
            "min": 0,
            "description_tooltip": null,
            "_model_module": "@jupyter-widgets/controls",
            "layout": "IPY_MODEL_63a16c0ec3c84b1dbe85dd173cf40dc5"
          }
        },
        "251af6961f4a4f6cbbe23c985ee7a327": {
          "model_module": "@jupyter-widgets/controls",
          "model_name": "HTMLModel",
          "state": {
            "_view_name": "HTMLView",
            "style": "IPY_MODEL_847839d89d434eb0afe8f6de7637f296",
            "_dom_classes": [],
            "description": "",
            "_model_name": "HTMLModel",
            "placeholder": "​",
            "_view_module": "@jupyter-widgets/controls",
            "_model_module_version": "1.5.0",
            "value": " 1.36M/1.36M [00:00&lt;00:00, 3.50MB/s]",
            "_view_count": null,
            "_view_module_version": "1.5.0",
            "description_tooltip": null,
            "_model_module": "@jupyter-widgets/controls",
            "layout": "IPY_MODEL_d782591968a14e7c8f6e4ea376ebb7b8"
          }
        },
        "d75795837bc84e72859683ccca2e058a": {
          "model_module": "@jupyter-widgets/controls",
          "model_name": "ProgressStyleModel",
          "state": {
            "_view_name": "StyleView",
            "_model_name": "ProgressStyleModel",
            "description_width": "initial",
            "_view_module": "@jupyter-widgets/base",
            "_model_module_version": "1.5.0",
            "_view_count": null,
            "_view_module_version": "1.2.0",
            "bar_color": null,
            "_model_module": "@jupyter-widgets/controls"
          }
        },
        "63a16c0ec3c84b1dbe85dd173cf40dc5": {
          "model_module": "@jupyter-widgets/base",
          "model_name": "LayoutModel",
          "state": {
            "_view_name": "LayoutView",
            "grid_template_rows": null,
            "right": null,
            "justify_content": null,
            "_view_module": "@jupyter-widgets/base",
            "overflow": null,
            "_model_module_version": "1.2.0",
            "_view_count": null,
            "flex_flow": null,
            "width": null,
            "min_width": null,
            "border": null,
            "align_items": null,
            "bottom": null,
            "_model_module": "@jupyter-widgets/base",
            "top": null,
            "grid_column": null,
            "overflow_y": null,
            "overflow_x": null,
            "grid_auto_flow": null,
            "grid_area": null,
            "grid_template_columns": null,
            "flex": null,
            "_model_name": "LayoutModel",
            "justify_items": null,
            "grid_row": null,
            "max_height": null,
            "align_content": null,
            "visibility": null,
            "align_self": null,
            "height": null,
            "min_height": null,
            "padding": null,
            "grid_auto_rows": null,
            "grid_gap": null,
            "max_width": null,
            "order": null,
            "_view_module_version": "1.2.0",
            "grid_template_areas": null,
            "object_position": null,
            "object_fit": null,
            "grid_auto_columns": null,
            "margin": null,
            "display": null,
            "left": null
          }
        },
        "847839d89d434eb0afe8f6de7637f296": {
          "model_module": "@jupyter-widgets/controls",
          "model_name": "DescriptionStyleModel",
          "state": {
            "_view_name": "StyleView",
            "_model_name": "DescriptionStyleModel",
            "description_width": "",
            "_view_module": "@jupyter-widgets/base",
            "_model_module_version": "1.5.0",
            "_view_count": null,
            "_view_module_version": "1.2.0",
            "_model_module": "@jupyter-widgets/controls"
          }
        },
        "d782591968a14e7c8f6e4ea376ebb7b8": {
          "model_module": "@jupyter-widgets/base",
          "model_name": "LayoutModel",
          "state": {
            "_view_name": "LayoutView",
            "grid_template_rows": null,
            "right": null,
            "justify_content": null,
            "_view_module": "@jupyter-widgets/base",
            "overflow": null,
            "_model_module_version": "1.2.0",
            "_view_count": null,
            "flex_flow": null,
            "width": null,
            "min_width": null,
            "border": null,
            "align_items": null,
            "bottom": null,
            "_model_module": "@jupyter-widgets/base",
            "top": null,
            "grid_column": null,
            "overflow_y": null,
            "overflow_x": null,
            "grid_auto_flow": null,
            "grid_area": null,
            "grid_template_columns": null,
            "flex": null,
            "_model_name": "LayoutModel",
            "justify_items": null,
            "grid_row": null,
            "max_height": null,
            "align_content": null,
            "visibility": null,
            "align_self": null,
            "height": null,
            "min_height": null,
            "padding": null,
            "grid_auto_rows": null,
            "grid_gap": null,
            "max_width": null,
            "order": null,
            "_view_module_version": "1.2.0",
            "grid_template_areas": null,
            "object_position": null,
            "object_fit": null,
            "grid_auto_columns": null,
            "margin": null,
            "display": null,
            "left": null
          }
        }
      }
    }
  },
  "cells": [
    {
      "cell_type": "markdown",
      "metadata": {
        "id": "view-in-github",
        "colab_type": "text"
      },
      "source": [
        "<a href=\"https://colab.research.google.com/github/The-ML-Hero/DeepLearningBasedDescriptivePaperCorrection/blob/main/DeepLearningBasedDescriptivePaperCorrection.ipynb\" target=\"_parent\"><img src=\"https://colab.research.google.com/assets/colab-badge.svg\" alt=\"Open In Colab\"/></a>"
      ]
    },
    {
      "cell_type": "code",
      "metadata": {
        "colab": {
          "base_uri": "https://localhost:8080/"
        },
        "id": "D8vs-LUjs-_G",
        "outputId": "5dc174f8-ae0d-4175-dd07-5a6c248f3fc4"
      },
      "source": [
        "!pip install pdf2image"
      ],
      "execution_count": null,
      "outputs": [
        {
          "output_type": "stream",
          "text": [
            "Collecting pdf2image\n",
            "  Downloading https://files.pythonhosted.org/packages/03/62/089030fd16ab3e5c245315d63c80b29250b8f9e4579b5a09306eb7e7539c/pdf2image-1.14.0-py3-none-any.whl\n",
            "Requirement already satisfied: pillow in /usr/local/lib/python3.6/dist-packages (from pdf2image) (7.0.0)\n",
            "Installing collected packages: pdf2image\n",
            "Successfully installed pdf2image-1.14.0\n"
          ],
          "name": "stdout"
        }
      ]
    },
    {
      "cell_type": "code",
      "metadata": {
        "colab": {
          "base_uri": "https://localhost:8080/"
        },
        "id": "PDu0nIUzu2Nb",
        "outputId": "20e2de43-1c84-4e24-e8ac-2ba4e53bdf35"
      },
      "source": [
        "!pip install -U sentence-transformers"
      ],
      "execution_count": null,
      "outputs": [
        {
          "output_type": "stream",
          "text": [
            "Collecting sentence-transformers\n",
            "\u001b[?25l  Downloading https://files.pythonhosted.org/packages/6a/e2/84d6acfcee2d83164149778a33b6bdd1a74e1bcb59b2b2cd1b861359b339/sentence-transformers-0.4.1.2.tar.gz (64kB)\n",
            "\u001b[K     |████████████████████████████████| 71kB 6.1MB/s \n",
            "\u001b[?25hCollecting transformers<5.0.0,>=3.1.0\n",
            "\u001b[?25l  Downloading https://files.pythonhosted.org/packages/50/0c/7d5950fcd80b029be0a8891727ba21e0cd27692c407c51261c3c921f6da3/transformers-4.1.1-py3-none-any.whl (1.5MB)\n",
            "\u001b[K     |████████████████████████████████| 1.5MB 10.6MB/s \n",
            "\u001b[?25hRequirement already satisfied, skipping upgrade: tqdm in /usr/local/lib/python3.6/dist-packages (from sentence-transformers) (4.41.1)\n",
            "Requirement already satisfied, skipping upgrade: torch>=1.6.0 in /usr/local/lib/python3.6/dist-packages (from sentence-transformers) (1.7.0+cu101)\n",
            "Requirement already satisfied, skipping upgrade: numpy in /usr/local/lib/python3.6/dist-packages (from sentence-transformers) (1.19.4)\n",
            "Requirement already satisfied, skipping upgrade: scikit-learn in /usr/local/lib/python3.6/dist-packages (from sentence-transformers) (0.22.2.post1)\n",
            "Requirement already satisfied, skipping upgrade: scipy in /usr/local/lib/python3.6/dist-packages (from sentence-transformers) (1.4.1)\n",
            "Requirement already satisfied, skipping upgrade: nltk in /usr/local/lib/python3.6/dist-packages (from sentence-transformers) (3.2.5)\n",
            "Collecting sentencepiece\n",
            "\u001b[?25l  Downloading https://files.pythonhosted.org/packages/14/67/e42bd1181472c95c8cda79305df848264f2a7f62740995a46945d9797b67/sentencepiece-0.1.95-cp36-cp36m-manylinux2014_x86_64.whl (1.2MB)\n",
            "\u001b[K     |████████████████████████████████| 1.2MB 29.3MB/s \n",
            "\u001b[?25hRequirement already satisfied, skipping upgrade: packaging in /usr/local/lib/python3.6/dist-packages (from transformers<5.0.0,>=3.1.0->sentence-transformers) (20.8)\n",
            "Requirement already satisfied, skipping upgrade: requests in /usr/local/lib/python3.6/dist-packages (from transformers<5.0.0,>=3.1.0->sentence-transformers) (2.23.0)\n",
            "Requirement already satisfied, skipping upgrade: dataclasses; python_version < \"3.7\" in /usr/local/lib/python3.6/dist-packages (from transformers<5.0.0,>=3.1.0->sentence-transformers) (0.8)\n",
            "Requirement already satisfied, skipping upgrade: regex!=2019.12.17 in /usr/local/lib/python3.6/dist-packages (from transformers<5.0.0,>=3.1.0->sentence-transformers) (2019.12.20)\n",
            "Collecting sacremoses\n",
            "\u001b[?25l  Downloading https://files.pythonhosted.org/packages/7d/34/09d19aff26edcc8eb2a01bed8e98f13a1537005d31e95233fd48216eed10/sacremoses-0.0.43.tar.gz (883kB)\n",
            "\u001b[K     |████████████████████████████████| 890kB 44.4MB/s \n",
            "\u001b[?25hRequirement already satisfied, skipping upgrade: filelock in /usr/local/lib/python3.6/dist-packages (from transformers<5.0.0,>=3.1.0->sentence-transformers) (3.0.12)\n",
            "Collecting tokenizers==0.9.4\n",
            "\u001b[?25l  Downloading https://files.pythonhosted.org/packages/0f/1c/e789a8b12e28be5bc1ce2156cf87cb522b379be9cadc7ad8091a4cc107c4/tokenizers-0.9.4-cp36-cp36m-manylinux2010_x86_64.whl (2.9MB)\n",
            "\u001b[K     |████████████████████████████████| 2.9MB 57.4MB/s \n",
            "\u001b[?25hRequirement already satisfied, skipping upgrade: typing-extensions in /usr/local/lib/python3.6/dist-packages (from torch>=1.6.0->sentence-transformers) (3.7.4.3)\n",
            "Requirement already satisfied, skipping upgrade: future in /usr/local/lib/python3.6/dist-packages (from torch>=1.6.0->sentence-transformers) (0.16.0)\n",
            "Requirement already satisfied, skipping upgrade: joblib>=0.11 in /usr/local/lib/python3.6/dist-packages (from scikit-learn->sentence-transformers) (1.0.0)\n",
            "Requirement already satisfied, skipping upgrade: six in /usr/local/lib/python3.6/dist-packages (from nltk->sentence-transformers) (1.15.0)\n",
            "Requirement already satisfied, skipping upgrade: pyparsing>=2.0.2 in /usr/local/lib/python3.6/dist-packages (from packaging->transformers<5.0.0,>=3.1.0->sentence-transformers) (2.4.7)\n",
            "Requirement already satisfied, skipping upgrade: urllib3!=1.25.0,!=1.25.1,<1.26,>=1.21.1 in /usr/local/lib/python3.6/dist-packages (from requests->transformers<5.0.0,>=3.1.0->sentence-transformers) (1.24.3)\n",
            "Requirement already satisfied, skipping upgrade: idna<3,>=2.5 in /usr/local/lib/python3.6/dist-packages (from requests->transformers<5.0.0,>=3.1.0->sentence-transformers) (2.10)\n",
            "Requirement already satisfied, skipping upgrade: certifi>=2017.4.17 in /usr/local/lib/python3.6/dist-packages (from requests->transformers<5.0.0,>=3.1.0->sentence-transformers) (2020.12.5)\n",
            "Requirement already satisfied, skipping upgrade: chardet<4,>=3.0.2 in /usr/local/lib/python3.6/dist-packages (from requests->transformers<5.0.0,>=3.1.0->sentence-transformers) (3.0.4)\n",
            "Requirement already satisfied, skipping upgrade: click in /usr/local/lib/python3.6/dist-packages (from sacremoses->transformers<5.0.0,>=3.1.0->sentence-transformers) (7.1.2)\n",
            "Building wheels for collected packages: sentence-transformers, sacremoses\n",
            "  Building wheel for sentence-transformers (setup.py) ... \u001b[?25l\u001b[?25hdone\n",
            "  Created wheel for sentence-transformers: filename=sentence_transformers-0.4.1.2-cp36-none-any.whl size=103068 sha256=71997ca730c81d69e5f8abbfad510d8f215cdae35e68367bbcb6df5ba2916e69\n",
            "  Stored in directory: /root/.cache/pip/wheels/3d/33/d1/5703dd56199c09d4a1b41e0c07fb4e7765a84d787cbdc48ac3\n",
            "  Building wheel for sacremoses (setup.py) ... \u001b[?25l\u001b[?25hdone\n",
            "  Created wheel for sacremoses: filename=sacremoses-0.0.43-cp36-none-any.whl size=893261 sha256=a29eb9747bdca550e7d9ae44d7ad50c7649d7400ab1d80a6926eac1b17d49968\n",
            "  Stored in directory: /root/.cache/pip/wheels/29/3c/fd/7ce5c3f0666dab31a50123635e6fb5e19ceb42ce38d4e58f45\n",
            "Successfully built sentence-transformers sacremoses\n",
            "Installing collected packages: sacremoses, tokenizers, transformers, sentencepiece, sentence-transformers\n",
            "Successfully installed sacremoses-0.0.43 sentence-transformers-0.4.1.2 sentencepiece-0.1.95 tokenizers-0.9.4 transformers-4.1.1\n"
          ],
          "name": "stdout"
        }
      ]
    },
    {
      "cell_type": "code",
      "metadata": {
        "colab": {
          "base_uri": "https://localhost:8080/"
        },
        "id": "8o10hyzuxZS0",
        "outputId": "7e79a0c0-2410-4ab3-f807-b53e3101247e"
      },
      "source": [
        "!!apt-get install poppler-utils "
      ],
      "execution_count": null,
      "outputs": [
        {
          "output_type": "execute_result",
          "data": {
            "text/plain": [
              "['',\n",
              " 'Reading package lists... 0%',\n",
              " '',\n",
              " 'Reading package lists... 0%',\n",
              " '',\n",
              " 'Reading package lists... 0%',\n",
              " '',\n",
              " 'Reading package lists... 6%',\n",
              " '',\n",
              " 'Reading package lists... 6%',\n",
              " '',\n",
              " 'Reading package lists... 6%',\n",
              " '',\n",
              " 'Reading package lists... 6%',\n",
              " '',\n",
              " 'Reading package lists... 55%',\n",
              " '',\n",
              " 'Reading package lists... 55%',\n",
              " '',\n",
              " 'Reading package lists... 56%',\n",
              " '',\n",
              " 'Reading package lists... 56%',\n",
              " '',\n",
              " 'Reading package lists... 66%',\n",
              " '',\n",
              " 'Reading package lists... 66%',\n",
              " '',\n",
              " 'Reading package lists... 66%',\n",
              " '',\n",
              " 'Reading package lists... 67%',\n",
              " '',\n",
              " 'Reading package lists... 67%',\n",
              " '',\n",
              " 'Reading package lists... 76%',\n",
              " '',\n",
              " 'Reading package lists... 76%',\n",
              " '',\n",
              " 'Reading package lists... 77%',\n",
              " '',\n",
              " 'Reading package lists... 77%',\n",
              " '',\n",
              " 'Reading package lists... 77%',\n",
              " '',\n",
              " 'Reading package lists... 77%',\n",
              " '',\n",
              " 'Reading package lists... 77%',\n",
              " '',\n",
              " 'Reading package lists... 77%',\n",
              " '',\n",
              " 'Reading package lists... 85%',\n",
              " '',\n",
              " 'Reading package lists... 85%',\n",
              " '',\n",
              " 'Reading package lists... 86%',\n",
              " '',\n",
              " 'Reading package lists... 86%',\n",
              " '',\n",
              " 'Reading package lists... 92%',\n",
              " '',\n",
              " 'Reading package lists... 92%',\n",
              " '',\n",
              " 'Reading package lists... 92%',\n",
              " '',\n",
              " 'Reading package lists... 92%',\n",
              " '',\n",
              " 'Reading package lists... 92%',\n",
              " '',\n",
              " 'Reading package lists... 92%',\n",
              " '',\n",
              " 'Reading package lists... 95%',\n",
              " '',\n",
              " 'Reading package lists... 95%',\n",
              " '',\n",
              " 'Reading package lists... 95%',\n",
              " '',\n",
              " 'Reading package lists... 95%',\n",
              " '',\n",
              " 'Reading package lists... 98%',\n",
              " '',\n",
              " 'Reading package lists... 98%',\n",
              " '',\n",
              " 'Reading package lists... 98%',\n",
              " '',\n",
              " 'Reading package lists... 98%',\n",
              " '',\n",
              " 'Reading package lists... 98%',\n",
              " '',\n",
              " 'Reading package lists... 98%',\n",
              " '',\n",
              " 'Reading package lists... Done',\n",
              " '',\n",
              " 'Building dependency tree... 0%',\n",
              " '',\n",
              " 'Building dependency tree... 0%',\n",
              " '',\n",
              " 'Building dependency tree... 50%',\n",
              " '',\n",
              " 'Building dependency tree... 50%',\n",
              " '',\n",
              " 'Building dependency tree       ',\n",
              " '',\n",
              " 'Reading state information... 0%',\n",
              " '',\n",
              " 'Reading state information... 0%',\n",
              " '',\n",
              " 'Reading state information... Done',\n",
              " 'The following NEW packages will be installed:',\n",
              " '  poppler-utils',\n",
              " '0 upgraded, 1 newly installed, 0 to remove and 16 not upgraded.',\n",
              " 'Need to get 154 kB of archives.',\n",
              " 'After this operation, 613 kB of additional disk space will be used.',\n",
              " '',\n",
              " '0% [Working]',\n",
              " '            ',\n",
              " 'Get:1 http://archive.ubuntu.com/ubuntu bionic-updates/main amd64 poppler-utils amd64 0.62.0-2ubuntu2.12 [154 kB]',\n",
              " '',\n",
              " '7% [1 poppler-utils 14.2 kB/154 kB 9%]',\n",
              " '                                      ',\n",
              " '100% [Working]',\n",
              " '              ',\n",
              " 'Fetched 154 kB in 1s (300 kB/s)',\n",
              " 'Selecting previously unselected package poppler-utils.',\n",
              " '(Reading database ... ',\n",
              " '(Reading database ... 5%',\n",
              " '(Reading database ... 10%',\n",
              " '(Reading database ... 15%',\n",
              " '(Reading database ... 20%',\n",
              " '(Reading database ... 25%',\n",
              " '(Reading database ... 30%',\n",
              " '(Reading database ... 35%',\n",
              " '(Reading database ... 40%',\n",
              " '(Reading database ... 45%',\n",
              " '(Reading database ... 50%',\n",
              " '(Reading database ... 55%',\n",
              " '(Reading database ... 60%',\n",
              " '(Reading database ... 65%',\n",
              " '(Reading database ... 70%',\n",
              " '(Reading database ... 75%',\n",
              " '(Reading database ... 80%',\n",
              " '(Reading database ... 85%',\n",
              " '(Reading database ... 90%',\n",
              " '(Reading database ... 95%',\n",
              " '(Reading database ... 100%',\n",
              " '(Reading database ... 145483 files and directories currently installed.)',\n",
              " 'Preparing to unpack .../poppler-utils_0.62.0-2ubuntu2.12_amd64.deb ...',\n",
              " 'Unpacking poppler-utils (0.62.0-2ubuntu2.12) ...',\n",
              " 'Setting up poppler-utils (0.62.0-2ubuntu2.12) ...',\n",
              " 'Processing triggers for man-db (2.8.3-2ubuntu0.1) ...']"
            ]
          },
          "metadata": {
            "tags": []
          },
          "execution_count": 3
        }
      ]
    },
    {
      "cell_type": "code",
      "metadata": {
        "id": "BKip3KRyzYOI"
      },
      "source": [
        "import os\n",
        "import tempfile\n",
        "from pdf2image import convert_from_path\n",
        "from PIL import Image\n",
        "def convert_pdf(file_path, output_path):\n",
        "    # save temp image files in temp dir, delete them after we are finished\n",
        "    with tempfile.TemporaryDirectory() as temp_dir:\n",
        "        # convert pdf to multiple image\n",
        "        images = convert_from_path(file_path, output_folder=temp_dir)\n",
        "        # save images to temporary directory\n",
        "        temp_images = []\n",
        "        for i in range(len(images)):\n",
        "            image_path = f'{temp_dir}/{i}.jpg'\n",
        "            images[i].save(image_path, 'JPEG')\n",
        "            temp_images.append(image_path)\n",
        "        # read images into pillow.Image\n",
        "        imgs = list(map(Image.open, temp_images))\n",
        "    # find minimum width of images\n",
        "    min_img_width = min(i.width for i in imgs)\n",
        "    # find total height of all images\n",
        "    total_height = 0\n",
        "    for i, img in enumerate(imgs):\n",
        "        total_height += imgs[i].height\n",
        "    # create new image object with width and total height\n",
        "    merged_image = Image.new(imgs[0].mode, (min_img_width, total_height))\n",
        "    # paste images together one by one\n",
        "    y = 0\n",
        "    for img in imgs:\n",
        "        merged_image.paste(img, (0, y))\n",
        "        y += img.height\n",
        "    # save merged image\n",
        "    merged_image.save(output_path)\n",
        "    return output_path"
      ],
      "execution_count": null,
      "outputs": []
    },
    {
      "cell_type": "code",
      "metadata": {
        "colab": {
          "base_uri": "https://localhost:8080/",
          "height": 918
        },
        "id": "xQWFFnJz1IuH",
        "outputId": "2169c3b3-31a6-478a-f903-854fe717108a"
      },
      "source": [
        "i = 0\n",
        "for files in os.listdir('/content/drive/MyDrive/Essay'):\n",
        "  i += 1\n",
        "  convert_pdf(f'/content/drive/MyDrive/Essay/{files}',f'/content/EassyPngs/Multiple{i}.png')\n",
        "  print(f'Wrote {i} File')"
      ],
      "execution_count": null,
      "outputs": [
        {
          "output_type": "stream",
          "text": [
            "Wrote 1 File\n",
            "Wrote 2 File\n",
            "Wrote 3 File\n",
            "Wrote 4 File\n",
            "Wrote 5 File\n",
            "Wrote 6 File\n",
            "Wrote 7 File\n",
            "Wrote 8 File\n",
            "Wrote 9 File\n",
            "Wrote 10 File\n",
            "Wrote 11 File\n",
            "Wrote 12 File\n",
            "Wrote 13 File\n",
            "Wrote 14 File\n",
            "Wrote 15 File\n",
            "Wrote 16 File\n",
            "Wrote 17 File\n",
            "Wrote 18 File\n",
            "Wrote 19 File\n",
            "Wrote 20 File\n",
            "Wrote 21 File\n",
            "Wrote 22 File\n",
            "Wrote 23 File\n",
            "Wrote 24 File\n",
            "Wrote 25 File\n",
            "Wrote 26 File\n",
            "Wrote 27 File\n",
            "Wrote 28 File\n",
            "Wrote 29 File\n",
            "Wrote 30 File\n",
            "Wrote 31 File\n",
            "Wrote 32 File\n",
            "Wrote 33 File\n"
          ],
          "name": "stdout"
        },
        {
          "output_type": "error",
          "ename": "KeyboardInterrupt",
          "evalue": "ignored",
          "traceback": [
            "\u001b[0;31m---------------------------------------------------------------------------\u001b[0m",
            "\u001b[0;31mKeyboardInterrupt\u001b[0m                         Traceback (most recent call last)",
            "\u001b[0;32m<ipython-input-19-df5b35e3ac27>\u001b[0m in \u001b[0;36m<module>\u001b[0;34m()\u001b[0m\n\u001b[1;32m      2\u001b[0m \u001b[0;32mfor\u001b[0m \u001b[0mfiles\u001b[0m \u001b[0;32min\u001b[0m \u001b[0mos\u001b[0m\u001b[0;34m.\u001b[0m\u001b[0mlistdir\u001b[0m\u001b[0;34m(\u001b[0m\u001b[0;34m'/content/drive/MyDrive/Essay'\u001b[0m\u001b[0;34m)\u001b[0m\u001b[0;34m:\u001b[0m\u001b[0;34m\u001b[0m\u001b[0;34m\u001b[0m\u001b[0m\n\u001b[1;32m      3\u001b[0m   \u001b[0mi\u001b[0m \u001b[0;34m+=\u001b[0m \u001b[0;36m1\u001b[0m\u001b[0;34m\u001b[0m\u001b[0;34m\u001b[0m\u001b[0m\n\u001b[0;32m----> 4\u001b[0;31m   \u001b[0mconvert_pdf\u001b[0m\u001b[0;34m(\u001b[0m\u001b[0;34mf'/content/drive/MyDrive/Essay/{files}'\u001b[0m\u001b[0;34m,\u001b[0m\u001b[0;34mf'/content/EassyPngs/Multiple{i}.png'\u001b[0m\u001b[0;34m)\u001b[0m\u001b[0;34m\u001b[0m\u001b[0;34m\u001b[0m\u001b[0m\n\u001b[0m\u001b[1;32m      5\u001b[0m   \u001b[0mprint\u001b[0m\u001b[0;34m(\u001b[0m\u001b[0;34mf'Wrote {i} File'\u001b[0m\u001b[0;34m)\u001b[0m\u001b[0;34m\u001b[0m\u001b[0;34m\u001b[0m\u001b[0m\n",
            "\u001b[0;32m<ipython-input-13-40bd6905bb54>\u001b[0m in \u001b[0;36mconvert_pdf\u001b[0;34m(file_path, output_path)\u001b[0m\n\u001b[1;32m      7\u001b[0m     \u001b[0;32mwith\u001b[0m \u001b[0mtempfile\u001b[0m\u001b[0;34m.\u001b[0m\u001b[0mTemporaryDirectory\u001b[0m\u001b[0;34m(\u001b[0m\u001b[0;34m)\u001b[0m \u001b[0;32mas\u001b[0m \u001b[0mtemp_dir\u001b[0m\u001b[0;34m:\u001b[0m\u001b[0;34m\u001b[0m\u001b[0;34m\u001b[0m\u001b[0m\n\u001b[1;32m      8\u001b[0m         \u001b[0;31m# convert pdf to multiple image\u001b[0m\u001b[0;34m\u001b[0m\u001b[0;34m\u001b[0m\u001b[0;34m\u001b[0m\u001b[0m\n\u001b[0;32m----> 9\u001b[0;31m         \u001b[0mimages\u001b[0m \u001b[0;34m=\u001b[0m \u001b[0mconvert_from_path\u001b[0m\u001b[0;34m(\u001b[0m\u001b[0mfile_path\u001b[0m\u001b[0;34m,\u001b[0m \u001b[0moutput_folder\u001b[0m\u001b[0;34m=\u001b[0m\u001b[0mtemp_dir\u001b[0m\u001b[0;34m)\u001b[0m\u001b[0;34m\u001b[0m\u001b[0;34m\u001b[0m\u001b[0m\n\u001b[0m\u001b[1;32m     10\u001b[0m         \u001b[0;31m# save images to temporary directory\u001b[0m\u001b[0;34m\u001b[0m\u001b[0;34m\u001b[0m\u001b[0;34m\u001b[0m\u001b[0m\n\u001b[1;32m     11\u001b[0m         \u001b[0mtemp_images\u001b[0m \u001b[0;34m=\u001b[0m \u001b[0;34m[\u001b[0m\u001b[0;34m]\u001b[0m\u001b[0;34m\u001b[0m\u001b[0;34m\u001b[0m\u001b[0m\n",
            "\u001b[0;32m/usr/local/lib/python3.6/dist-packages/pdf2image/pdf2image.py\u001b[0m in \u001b[0;36mconvert_from_path\u001b[0;34m(pdf_path, dpi, output_folder, first_page, last_page, fmt, jpegopt, thread_count, userpw, use_cropbox, strict, transparent, single_file, output_file, poppler_path, grayscale, size, paths_only, use_pdftocairo, timeout)\u001b[0m\n\u001b[1;32m     95\u001b[0m         \u001b[0mpoppler_path\u001b[0m \u001b[0;34m=\u001b[0m \u001b[0mpoppler_path\u001b[0m\u001b[0;34m.\u001b[0m\u001b[0mas_posix\u001b[0m\u001b[0;34m(\u001b[0m\u001b[0;34m)\u001b[0m\u001b[0;34m\u001b[0m\u001b[0;34m\u001b[0m\u001b[0m\n\u001b[1;32m     96\u001b[0m \u001b[0;34m\u001b[0m\u001b[0m\n\u001b[0;32m---> 97\u001b[0;31m     \u001b[0mpage_count\u001b[0m \u001b[0;34m=\u001b[0m \u001b[0mpdfinfo_from_path\u001b[0m\u001b[0;34m(\u001b[0m\u001b[0mpdf_path\u001b[0m\u001b[0;34m,\u001b[0m \u001b[0muserpw\u001b[0m\u001b[0;34m,\u001b[0m \u001b[0mpoppler_path\u001b[0m\u001b[0;34m=\u001b[0m\u001b[0mpoppler_path\u001b[0m\u001b[0;34m)\u001b[0m\u001b[0;34m[\u001b[0m\u001b[0;34m\"Pages\"\u001b[0m\u001b[0;34m]\u001b[0m\u001b[0;34m\u001b[0m\u001b[0;34m\u001b[0m\u001b[0m\n\u001b[0m\u001b[1;32m     98\u001b[0m \u001b[0;34m\u001b[0m\u001b[0m\n\u001b[1;32m     99\u001b[0m     \u001b[0;31m# We start by getting the output format, the buffer processing function and if we need pdftocairo\u001b[0m\u001b[0;34m\u001b[0m\u001b[0;34m\u001b[0m\u001b[0;34m\u001b[0m\u001b[0m\n",
            "\u001b[0;32m/usr/local/lib/python3.6/dist-packages/pdf2image/pdf2image.py\u001b[0m in \u001b[0;36mpdfinfo_from_path\u001b[0;34m(pdf_path, userpw, poppler_path, rawdates, timeout)\u001b[0m\n\u001b[1;32m    442\u001b[0m \u001b[0;34m\u001b[0m\u001b[0m\n\u001b[1;32m    443\u001b[0m         \u001b[0;32mtry\u001b[0m\u001b[0;34m:\u001b[0m\u001b[0;34m\u001b[0m\u001b[0;34m\u001b[0m\u001b[0m\n\u001b[0;32m--> 444\u001b[0;31m             \u001b[0mout\u001b[0m\u001b[0;34m,\u001b[0m \u001b[0merr\u001b[0m \u001b[0;34m=\u001b[0m \u001b[0mproc\u001b[0m\u001b[0;34m.\u001b[0m\u001b[0mcommunicate\u001b[0m\u001b[0;34m(\u001b[0m\u001b[0mtimeout\u001b[0m\u001b[0;34m=\u001b[0m\u001b[0mtimeout\u001b[0m\u001b[0;34m)\u001b[0m\u001b[0;34m\u001b[0m\u001b[0;34m\u001b[0m\u001b[0m\n\u001b[0m\u001b[1;32m    445\u001b[0m         \u001b[0;32mexcept\u001b[0m \u001b[0mTimeoutExpired\u001b[0m\u001b[0;34m:\u001b[0m\u001b[0;34m\u001b[0m\u001b[0;34m\u001b[0m\u001b[0m\n\u001b[1;32m    446\u001b[0m             \u001b[0mproc\u001b[0m\u001b[0;34m.\u001b[0m\u001b[0mkill\u001b[0m\u001b[0;34m(\u001b[0m\u001b[0;34m)\u001b[0m\u001b[0;34m\u001b[0m\u001b[0;34m\u001b[0m\u001b[0m\n",
            "\u001b[0;32m/usr/lib/python3.6/subprocess.py\u001b[0m in \u001b[0;36mcommunicate\u001b[0;34m(self, input, timeout)\u001b[0m\n\u001b[1;32m    861\u001b[0m \u001b[0;34m\u001b[0m\u001b[0m\n\u001b[1;32m    862\u001b[0m             \u001b[0;32mtry\u001b[0m\u001b[0;34m:\u001b[0m\u001b[0;34m\u001b[0m\u001b[0;34m\u001b[0m\u001b[0m\n\u001b[0;32m--> 863\u001b[0;31m                 \u001b[0mstdout\u001b[0m\u001b[0;34m,\u001b[0m \u001b[0mstderr\u001b[0m \u001b[0;34m=\u001b[0m \u001b[0mself\u001b[0m\u001b[0;34m.\u001b[0m\u001b[0m_communicate\u001b[0m\u001b[0;34m(\u001b[0m\u001b[0minput\u001b[0m\u001b[0;34m,\u001b[0m \u001b[0mendtime\u001b[0m\u001b[0;34m,\u001b[0m \u001b[0mtimeout\u001b[0m\u001b[0;34m)\u001b[0m\u001b[0;34m\u001b[0m\u001b[0;34m\u001b[0m\u001b[0m\n\u001b[0m\u001b[1;32m    864\u001b[0m             \u001b[0;32mfinally\u001b[0m\u001b[0;34m:\u001b[0m\u001b[0;34m\u001b[0m\u001b[0;34m\u001b[0m\u001b[0m\n\u001b[1;32m    865\u001b[0m                 \u001b[0mself\u001b[0m\u001b[0;34m.\u001b[0m\u001b[0m_communication_started\u001b[0m \u001b[0;34m=\u001b[0m \u001b[0;32mTrue\u001b[0m\u001b[0;34m\u001b[0m\u001b[0;34m\u001b[0m\u001b[0m\n",
            "\u001b[0;32m/usr/lib/python3.6/subprocess.py\u001b[0m in \u001b[0;36m_communicate\u001b[0;34m(self, input, endtime, orig_timeout)\u001b[0m\n\u001b[1;32m   1532\u001b[0m                         \u001b[0;32mraise\u001b[0m \u001b[0mTimeoutExpired\u001b[0m\u001b[0;34m(\u001b[0m\u001b[0mself\u001b[0m\u001b[0;34m.\u001b[0m\u001b[0margs\u001b[0m\u001b[0;34m,\u001b[0m \u001b[0morig_timeout\u001b[0m\u001b[0;34m)\u001b[0m\u001b[0;34m\u001b[0m\u001b[0;34m\u001b[0m\u001b[0m\n\u001b[1;32m   1533\u001b[0m \u001b[0;34m\u001b[0m\u001b[0m\n\u001b[0;32m-> 1534\u001b[0;31m                     \u001b[0mready\u001b[0m \u001b[0;34m=\u001b[0m \u001b[0mselector\u001b[0m\u001b[0;34m.\u001b[0m\u001b[0mselect\u001b[0m\u001b[0;34m(\u001b[0m\u001b[0mtimeout\u001b[0m\u001b[0;34m)\u001b[0m\u001b[0;34m\u001b[0m\u001b[0;34m\u001b[0m\u001b[0m\n\u001b[0m\u001b[1;32m   1535\u001b[0m                     \u001b[0mself\u001b[0m\u001b[0;34m.\u001b[0m\u001b[0m_check_timeout\u001b[0m\u001b[0;34m(\u001b[0m\u001b[0mendtime\u001b[0m\u001b[0;34m,\u001b[0m \u001b[0morig_timeout\u001b[0m\u001b[0;34m)\u001b[0m\u001b[0;34m\u001b[0m\u001b[0;34m\u001b[0m\u001b[0m\n\u001b[1;32m   1536\u001b[0m \u001b[0;34m\u001b[0m\u001b[0m\n",
            "\u001b[0;32m/usr/lib/python3.6/selectors.py\u001b[0m in \u001b[0;36mselect\u001b[0;34m(self, timeout)\u001b[0m\n\u001b[1;32m    374\u001b[0m             \u001b[0mready\u001b[0m \u001b[0;34m=\u001b[0m \u001b[0;34m[\u001b[0m\u001b[0;34m]\u001b[0m\u001b[0;34m\u001b[0m\u001b[0;34m\u001b[0m\u001b[0m\n\u001b[1;32m    375\u001b[0m             \u001b[0;32mtry\u001b[0m\u001b[0;34m:\u001b[0m\u001b[0;34m\u001b[0m\u001b[0;34m\u001b[0m\u001b[0m\n\u001b[0;32m--> 376\u001b[0;31m                 \u001b[0mfd_event_list\u001b[0m \u001b[0;34m=\u001b[0m \u001b[0mself\u001b[0m\u001b[0;34m.\u001b[0m\u001b[0m_poll\u001b[0m\u001b[0;34m.\u001b[0m\u001b[0mpoll\u001b[0m\u001b[0;34m(\u001b[0m\u001b[0mtimeout\u001b[0m\u001b[0;34m)\u001b[0m\u001b[0;34m\u001b[0m\u001b[0;34m\u001b[0m\u001b[0m\n\u001b[0m\u001b[1;32m    377\u001b[0m             \u001b[0;32mexcept\u001b[0m \u001b[0mInterruptedError\u001b[0m\u001b[0;34m:\u001b[0m\u001b[0;34m\u001b[0m\u001b[0;34m\u001b[0m\u001b[0m\n\u001b[1;32m    378\u001b[0m                 \u001b[0;32mreturn\u001b[0m \u001b[0mready\u001b[0m\u001b[0;34m\u001b[0m\u001b[0;34m\u001b[0m\u001b[0m\n",
            "\u001b[0;31mKeyboardInterrupt\u001b[0m: "
          ]
        }
      ]
    },
    {
      "cell_type": "code",
      "metadata": {
        "colab": {
          "base_uri": "https://localhost:8080/",
          "height": 35
        },
        "id": "my2Fx-UIzbIM",
        "outputId": "8b0b5064-2ba4-4b0a-81c8-f265648bc531"
      },
      "source": [
        "convert_pdf('/content/drive/MyDrive/Essay/2021_01_06 7_14 pm Office Lens.pdf','mutiplte.png')"
      ],
      "execution_count": null,
      "outputs": [
        {
          "output_type": "execute_result",
          "data": {
            "application/vnd.google.colaboratory.intrinsic+json": {
              "type": "string"
            },
            "text/plain": [
              "'mutiplte.png'"
            ]
          },
          "metadata": {
            "tags": []
          },
          "execution_count": 15
        }
      ]
    },
    {
      "cell_type": "code",
      "metadata": {
        "colab": {
          "base_uri": "https://localhost:8080/"
        },
        "id": "j0UIiKAwu38b",
        "outputId": "0703777f-9070-4362-9970-cb09e71e79ec"
      },
      "source": [
        "from sentence_transformers import SentenceTransformer\n",
        "model = SentenceTransformer('paraphrase-distilroberta-base-v1')"
      ],
      "execution_count": null,
      "outputs": [
        {
          "output_type": "stream",
          "text": [
            "100%|██████████| 306M/306M [01:46<00:00, 2.87MB/s]\n"
          ],
          "name": "stderr"
        }
      ]
    },
    {
      "cell_type": "code",
      "metadata": {
        "colab": {
          "base_uri": "https://localhost:8080/"
        },
        "id": "idxek6wmzs6A",
        "outputId": "6dc071fe-41c8-4292-c048-ec0f75412e62"
      },
      "source": [
        "!pip install pyngrok"
      ],
      "execution_count": null,
      "outputs": [
        {
          "output_type": "stream",
          "text": [
            "Collecting pyngrok\n",
            "  Downloading https://files.pythonhosted.org/packages/e2/19/af0fc6c11cc13f8a31e9dbec21af745337be8a40b5738cd30f08a483eac3/pyngrok-5.0.1.tar.gz\n",
            "Requirement already satisfied: PyYAML in /usr/local/lib/python3.6/dist-packages (from pyngrok) (3.13)\n",
            "Building wheels for collected packages: pyngrok\n",
            "  Building wheel for pyngrok (setup.py) ... \u001b[?25l\u001b[?25hdone\n",
            "  Created wheel for pyngrok: filename=pyngrok-5.0.1-cp36-none-any.whl size=18822 sha256=5d5caa65aaa811449bff0867ba9814de125f92bc315cb7a705dd55e3e403d4b3\n",
            "  Stored in directory: /root/.cache/pip/wheels/94/01/05/d39efb8f6b40a411354b4168ca9dda99e6f8d586e458e97551\n",
            "Successfully built pyngrok\n",
            "Installing collected packages: pyngrok\n",
            "Successfully installed pyngrok-5.0.1\n"
          ],
          "name": "stdout"
        }
      ]
    },
    {
      "cell_type": "code",
      "metadata": {
        "id": "EX-m89VTBVCz"
      },
      "source": [
        "import contextualSpellCheck\n",
        "import spacy\n",
        "\n",
        "## We require NER to identify if it is PERSON\n",
        "## also require parser because we use Token.sent for context\n",
        "nlp = spacy.load(\"en_core_web_sm\") \n",
        "contextualSpellCheck.add_to_pipe(nlp)\n",
        "doc = nlp('I was playin guitar in my garden')\n",
        "doc._.outcome_spellCheck"
      ],
      "execution_count": null,
      "outputs": []
    },
    {
      "cell_type": "code",
      "metadata": {
        "colab": {
          "base_uri": "https://localhost:8080/"
        },
        "id": "slYX9ov1u7Q4",
        "outputId": "368bc7e9-6144-4f65-d9ca-a0c8b5205241"
      },
      "source": [
        "from sentence_transformers import SentenceTransformer, util\n",
        "model = SentenceTransformer('stsb-distilbert-base')\n",
        "\n",
        "# Two lists of sentences\n",
        "sentences1 = \"\"\"The process of formation of hybrid layer is hybridization\n",
        "This layer forms following initial demineralization of dental sujace with an\n",
        "acidic conditioner. Exposing a collagens fibril microporosites that subsequently become diffures with low viscosity monomers. This one in\n",
        "whiten resin adhesive system. interlocks micromechanically with dental collagenic termed hybrid layer Cor sone\n",
        "Base layer of hybrid Gone is characterised by a gradual transition to underlying altered deutin.\n",
        "Hybrid layer as stres breaken (or) stress reliever with young mode of 3 Gpa\n",
        "Top layer of hybrid gone is amorphous electron dense phase.\"\"\"\n",
        "\n",
        "sentences2 = \"\"\"COMPOSITES: THE PAST, PRESENT AND THE FUTURE\n",
        "INTRODUCTION\n",
        "Restorative dental materials date back as far as dentistry. When all or part of a tooth is\n",
        "missing, replacing it with something is important for the patient to regain full function, not to\n",
        "mention esthetics. The dental materials of the past were rarely tooth colored, so dental\n",
        "restorations stood out in a patient’s mouth regardless of the clinician’s skill. Thus, the\n",
        "invention almost 60 years back, these aesthetic materials have come a long way and have\n",
        "witnessed lot of changes in their development. Dental composites are technique sensitive to\n",
        "use, while producing highly functional, and highly esthetic outcomes.\n",
        "DISCUSSION OF PROPERTIES:\n",
        "The Past\n",
        "The journey started way back in early 1950s with discovery of “Acid Etching” by Michael G.\n",
        "Buonocore and then successive developments of resin monomers bisphenol A-glycidyl\n",
        "methacrylate (BisGMA) by Raphel L. Bowen. The primitive composites though being crude\n",
        "had been an attempt to have a material which resembles tooth structure. By composition they\n",
        "had resin matrix of BisGMA and UDMA (urethane dimethacrylate) monomers bonded with\n",
        "silica fillers ranging from 50 micron to 0.5 mm using a silane coupling agent.\n",
        "RESIN MATRIX: contains BIS-GMA, TEGDMA, UDMA\n",
        "• Addition of TEGDMA enables the addition of sufficient filler but TEGDMA addition\n",
        "can result in shrinkage stress.\n",
        "• Modifications of bisphenol-A-based dimethacrylate systems have included the use of\n",
        "pendant bulky (aromatic) constituents (Ge et al., 2005) as well as pendant alkyl.\n",
        "• Recent developments regarding public perceptions of bisphenol-A toxicity may have\n",
        "a strong influence on steering future monomer development efforts toward bisphenol-A\n",
        "alternatives.\n",
        "Fillers– Quartz or glasses, amorphous silica {0.1 – 100 µm},30- 70 vol % or 50 –85%\n",
        "weight. In chronological developments the filler particle size was reduced from macro filler\n",
        "to micro fillers where the size of particles was just few micro meters and then came the\n",
        "hybrids a combination of micro and mini fillers; thus, improvising the strength and handling\n",
        "properties. Initially to increase the filler ratio fumed silica was being added in different forms\n",
        "like prepolymerized or agglomerated and sintered agglomerated particles.\n",
        "The present and future\n",
        "With the advent of nano era the filler particle size went down to as low as few nanometers\n",
        "thereby enabling us to have very high filler loading for use in both anterior and posterior\n",
        "region.Thus it got easy to develop exclusive posterior composites having very high\n",
        "compressive strength and low wear rate. Addition of fillers increased compressive strength,\n",
        "tensile strength, stiffness, abrasion resistance, hardness reduced wear, polymerization\n",
        "shrinkage, thermal expansion and contraction, water sorption.\n",
        "\n",
        "Polymerization shrinkage - During the curing of composites as the monomer used to get\n",
        "converted to polymer there was a high stress buildup within the restoration thereby pulling it\n",
        "from the tooth surface and causing post-operative sensitivity, secondary caries and marginal\n",
        "discoloration and often but not the least fracture of the restoration. It was documented to be\n",
        "as high as approximately 10 percent. Recent modifications with the introduction of epoxy\n",
        "based silorane system which claimed to reduce the shrinkage stress by opening of an oxirane\n",
        "ring during the epoxide curing reaction.\n",
        "SHADING MATCHING IN COMPOSITE RESTORATION\n",
        "The shade matching can be done two ways:\n",
        "1. Manual, Visual Shade Selection Techniques\n",
        "2. Automatic, Instrumental Shade Selection Techniques\n",
        "1.Manual, Visual Shade Selection Techniques:\n",
        "The most frequently used technique in the shade matching of teeth to restorative materials is\n",
        "done manually and visually with dental shade guides.\n",
        "Recommendations for selection:\n",
        "• Teeth to be matched must be clean.\n",
        "• Remove bright colors from the field of view.\n",
        "• Tooth shade should be determined in daylight or under standardized daylight lamps (not\n",
        "operation lamps).\n",
        "• View at the patient eye level.\n",
        "• Evaluate shade under multiple light sources.\n",
        "• Make shade matching at the beginning of treatment before the teeth begin to dehydrate.\n",
        "• Shade matching should be made quickly to avoid eye fatigue (5-7) seconds. The observer\n",
        "can look at a blue or grey card to rest eyes.\n",
        "The selected shades may be verified by placing a small unetched button of composite on the\n",
        "buccal surface, light curing for 5 seconds, then comparing it to the natural cervical and\n",
        "occlusal hues. The composite buttons can then be removed with an explorer tip.\n",
        "2.Automatic, Instrumental Shade Selection Techniques:\n",
        "These shade matching instruments were introduced to the dental profession to overcome the\n",
        "limitations and inconsistencies of the manual, visual shade matching systems.\n",
        "• Colorimeters\n",
        "• Spectrophotometers\n",
        "• digital imaging devices.\n",
        "MANIPULATION OF COMPOSITES:\n",
        "Rubber dam isolation is critical to prevent moisture interference or contamination with the\n",
        "intricate adhesive process.\n",
        "\n",
        "The Class II posterior direct resin restoration is the most challenging due to the operative\n",
        "intricacy of the proximal contact.\n",
        "First appropriate metal matrices or proximal contact formers should be selected.\n",
        "When using a matrix band, the marginal ridge heights of the adjacent teeth must be observed.\n",
        "Overcontouring of the marginal ridges will result in subsequent over contouring of the entire\n",
        "restoration.\n",
        "Once the matrix band is properly placed, the adhesive process can be initiated and completed\n",
        "according to manufacturer’s specifications. Initiation of the incremental buildup begins with\n",
        "the application of a flowable resin to the base of the preparation. An explorer tip should be\n",
        "used to manipulate a thin layer evenly across the pulpal floor and proximal walls.\n",
        "Additionally, flowable resin can be drawn along the margins of the proximal box and light\n",
        "cured.\n",
        "The general anatomy and morphology of the final restoration is reflected in the primary\n",
        "anatomy of the dentinal resin. Any characterization, tints, or fossa colors the patient desires\n",
        "can be added after the dentin buildup. Microcannula tips can be used to place color in precise\n",
        "amounts.\n",
        "Any additional polishing can be performed with a narrow fine diamond abrasive strip in the\n",
        "embrasure area. The 2-mm-wide strip can be passed through the contact area apical to the\n",
        "gingival margin.\n",
        "Composite polishing cups and points are used to polish the previously adjusted areas only,\n",
        "using light, intermittent touches to prevent loss of anatomy and surface morphology.\n",
        "SURVIVABILITY OF COMPOSITE RESTORATION:\n",
        "The overall findings suggest that at least 60% of resin composite restorations will last more\n",
        "than 10 years when proper materials are applied correctly.\n",
        "The mean annual failure rate is 2.9% for resin‐composite restorations and 1.6% for\n",
        "amalgams. For resin‐composite restorations, secondary caries was the most common reason\n",
        "for replacement (73.9%), followed by loss (8.0%), fracture (5.3%), and marginal defects\n",
        "(2.4%).\n",
        "Studies have shown that young age of the patient, high previous caries experience, deep\n",
        "cavities, and saucer‐shaped preparation technique as predisposing to shorter longevity of\n",
        "resin‐composite restorations.\n",
        "CONCLUSION\n",
        "It is emphasized here that methods be developed to completely cure the resin monomer and at\n",
        "same time to have closer sintering of filler particles thus increasing the strength of the\n",
        "material and ensuring its longevity in the oral cavity of the patient.\"\"\"\n",
        "\n",
        "def remove_ascii(input):\n",
        "  return ''.join([i if ord(i) < 128 else ' ' for i in input])\n",
        "\n",
        "sentences2 = remove_ascii(sentences2)\n",
        "#Compute embedding for both lists\n",
        "embeddings1 = model.encode(sentences1, convert_to_tensor=True)\n",
        "embeddings2 = model.encode(sentences2, convert_to_tensor=True)\n",
        "\n",
        "#Compute cosine-similarits\n",
        "cosine_scores = util.pytorch_cos_sim(embeddings1, embeddings2)\n",
        "\n",
        "cosine_scores[0][0]"
      ],
      "execution_count": null,
      "outputs": [
        {
          "output_type": "execute_result",
          "data": {
            "text/plain": [
              "tensor(0.5317)"
            ]
          },
          "metadata": {
            "tags": []
          },
          "execution_count": 46
        }
      ]
    },
    {
      "cell_type": "code",
      "metadata": {
        "id": "Xlm8Xknv7Kz9"
      },
      "source": [
        "sentences2 = \"\"\"COMPOSITES: THE PAST, PRESENT AND THE FUTURE\n",
        "INTRODUCTION\n",
        "Restorative dental materials date back as far as dentistry. When all or part of a tooth is\n",
        "missing, replacing it with something is important for the patient to regain full function, not to\n",
        "mention esthetics. The dental materials of the past were rarely tooth colored, so dental\n",
        "restorations stood out in a patient’s mouth regardless of the clinician’s skill. Thus, the\n",
        "invention almost 60 years back, these aesthetic materials have come a long way and have\n",
        "witnessed lot of changes in their development. Dental composites are technique sensitive to\n",
        "use, while producing highly functional, and highly esthetic outcomes.\n",
        "DISCUSSION OF PROPERTIES:\n",
        "The Past\n",
        "The journey started way back in early 1950s with discovery of “Acid Etching” by Michael G.\n",
        "Buonocore and then successive developments of resin monomers bisphenol A-glycidyl\n",
        "methacrylate (BisGMA) by Raphel L. Bowen. The primitive composites though being crude\n",
        "had been an attempt to have a material which resembles tooth structure. By composition they\n",
        "had resin matrix of BisGMA and UDMA (urethane dimethacrylate) monomers bonded with\n",
        "silica fillers ranging from 50 micron to 0.5 mm using a silane coupling agent.\n",
        "RESIN MATRIX: contains BIS-GMA, TEGDMA, UDMA\n",
        "• Addition of TEGDMA enables the addition of sufficient filler but TEGDMA addition\n",
        "can result in shrinkage stress.\n",
        "• Modifications of bisphenol-A-based dimethacrylate systems have included the use of\n",
        "pendant bulky (aromatic) constituents (Ge et al., 2005) as well as pendant alkyl.\n",
        "• Recent developments regarding public perceptions of bisphenol-A toxicity may have\n",
        "a strong influence on steering future monomer development efforts toward bisphenol-A\n",
        "alternatives.\n",
        "Fillers– Quartz or glasses, amorphous silica {0.1 – 100 µm},30- 70 vol % or 50 –85%\n",
        "weight. In chronological developments the filler particle size was reduced from macro filler\n",
        "to micro fillers where the size of particles was just few micro meters and then came the\n",
        "hybrids a combination of micro and mini fillers; thus, improvising the strength and handling\n",
        "properties. Initially to increase the filler ratio fumed silica was being added in different forms\n",
        "like prepolymerized or agglomerated and sintered agglomerated particles.\n",
        "The present and future\n",
        "With the advent of nano era the filler particle size went down to as low as few nanometers\n",
        "thereby enabling us to have very high filler loading for use in both anterior and posterior\n",
        "region.Thus it got easy to develop exclusive posterior composites having very high\n",
        "compressive strength and low wear rate. Addition of fillers increased compressive strength,\n",
        "tensile strength, stiffness, abrasion resistance, hardness reduced wear, polymerization\n",
        "shrinkage, thermal expansion and contraction, water sorption.\n",
        "\n",
        "Polymerization shrinkage - During the curing of composites as the monomer used to get\n",
        "converted to polymer there was a high stress buildup within the restoration thereby pulling it\n",
        "from the tooth surface and causing post-operative sensitivity, secondary caries and marginal\n",
        "discoloration and often but not the least fracture of the restoration. It was documented to be\n",
        "as high as approximately 10 percent. Recent modifications with the introduction of epoxy\n",
        "based silorane system which claimed to reduce the shrinkage stress by opening of an oxirane\n",
        "ring during the epoxide curing reaction.\n",
        "SHADING MATCHING IN COMPOSITE RESTORATION\n",
        "The shade matching can be done two ways:\n",
        "1. Manual, Visual Shade Selection Techniques\n",
        "2. Automatic, Instrumental Shade Selection Techniques\n",
        "1.Manual, Visual Shade Selection Techniques:\n",
        "The most frequently used technique in the shade matching of teeth to restorative materials is\n",
        "done manually and visually with dental shade guides.\n",
        "Recommendations for selection:\n",
        "• Teeth to be matched must be clean.\n",
        "• Remove bright colors from the field of view.\n",
        "• Tooth shade should be determined in daylight or under standardized daylight lamps (not\n",
        "operation lamps).\n",
        "• View at the patient eye level.\n",
        "• Evaluate shade under multiple light sources.\n",
        "• Make shade matching at the beginning of treatment before the teeth begin to dehydrate.\n",
        "• Shade matching should be made quickly to avoid eye fatigue (5-7) seconds. The observer\n",
        "can look at a blue or grey card to rest eyes.\n",
        "The selected shades may be verified by placing a small unetched button of composite on the\n",
        "buccal surface, light curing for 5 seconds, then comparing it to the natural cervical and\n",
        "occlusal hues. The composite buttons can then be removed with an explorer tip.\n",
        "2.Automatic, Instrumental Shade Selection Techniques:\n",
        "These shade matching instruments were introduced to the dental profession to overcome the\n",
        "limitations and inconsistencies of the manual, visual shade matching systems.\n",
        "• Colorimeters\n",
        "• Spectrophotometers\n",
        "• digital imaging devices.\n",
        "MANIPULATION OF COMPOSITES:\n",
        "Rubber dam isolation is critical to prevent moisture interference or contamination with the\n",
        "intricate adhesive process.\n",
        "\n",
        "The Class II posterior direct resin restoration is the most challenging due to the operative\n",
        "intricacy of the proximal contact.\n",
        "First appropriate metal matrices or proximal contact formers should be selected.\n",
        "When using a matrix band, the marginal ridge heights of the adjacent teeth must be observed.\n",
        "Overcontouring of the marginal ridges will result in subsequent over contouring of the entire\n",
        "restoration.\n",
        "Once the matrix band is properly placed, the adhesive process can be initiated and completed\n",
        "according to manufacturer’s specifications. Initiation of the incremental buildup begins with\n",
        "the application of a flowable resin to the base of the preparation. An explorer tip should be\n",
        "used to manipulate a thin layer evenly across the pulpal floor and proximal walls.\n",
        "Additionally, flowable resin can be drawn along the margins of the proximal box and light\n",
        "cured.\n",
        "The general anatomy and morphology of the final restoration is reflected in the primary\n",
        "anatomy of the dentinal resin. Any characterization, tints, or fossa colors the patient desires\n",
        "can be added after the dentin buildup. Microcannula tips can be used to place color in precise\n",
        "amounts.\n",
        "Any additional polishing can be performed with a narrow fine diamond abrasive strip in the\n",
        "embrasure area. The 2-mm-wide strip can be passed through the contact area apical to the\n",
        "gingival margin.\n",
        "Composite polishing cups and points are used to polish the previously adjusted areas only,\n",
        "using light, intermittent touches to prevent loss of anatomy and surface morphology.\n",
        "SURVIVABILITY OF COMPOSITE RESTORATION:\n",
        "The overall findings suggest that at least 60% of resin composite restorations will last more\n",
        "than 10 years when proper materials are applied correctly.\n",
        "The mean annual failure rate is 2.9% for resin‐composite restorations and 1.6% for\n",
        "amalgams. For resin‐composite restorations, secondary caries was the most common reason\n",
        "for replacement (73.9%), followed by loss (8.0%), fracture (5.3%), and marginal defects\n",
        "(2.4%).\n",
        "Studies have shown that young age of the patient, high previous caries experience, deep\n",
        "cavities, and saucer‐shaped preparation technique as predisposing to shorter longevity of\n",
        "resin‐composite restorations.\n",
        "CONCLUSION\n",
        "It is emphasized here that methods be developed to completely cure the resin monomer and at\n",
        "same time to have closer sintering of filler particles thus increasing the strength of the\n",
        "material and ensuring its longevity in the oral cavity of the patient.\"\"\""
      ],
      "execution_count": null,
      "outputs": []
    },
    {
      "cell_type": "code",
      "metadata": {
        "colab": {
          "base_uri": "https://localhost:8080/",
          "height": 171
        },
        "id": "aqmUH4BA8KG_",
        "outputId": "0066496a-881b-4294-91ec-f81a168bb8bc"
      },
      "source": [
        ""
      ],
      "execution_count": null,
      "outputs": [
        {
          "output_type": "execute_result",
          "data": {
            "application/vnd.google.colaboratory.intrinsic+json": {
              "type": "string"
            },
            "text/plain": [
              "'COMPOSITES: THE PAST, PRESENT AND THE FUTURE\\nINTRODUCTION\\nRestorative dental materials date back as far as dentistry. When all or part of a tooth is\\nmissing, replacing it with something is important for the patient to regain full function, not to\\nmention esthetics. The dental materials of the past were rarely tooth colored, so dental\\nrestorations stood out in a patient s mouth regardless of the clinician s skill. Thus, the\\ninvention almost 60 years back, these aesthetic materials have come a long way and have\\nwitnessed lot of changes in their development. Dental composites are technique sensitive to\\nuse, while producing highly functional, and highly esthetic outcomes.\\nDISCUSSION OF PROPERTIES:\\nThe Past\\nThe journey started way back in early 1950s with discovery of  Acid Etching  by Michael G.\\nBuonocore and then successive developments of resin monomers bisphenol A-glycidyl\\nmethacrylate (BisGMA) by Raphel L. Bowen. The primitive composites though being crude\\nhad been an attempt to have a material which resembles tooth structure. By composition they\\nhad resin matrix of BisGMA and UDMA (urethane dimethacrylate) monomers bonded with\\nsilica fillers ranging from 50 micron to 0.5 mm using a silane coupling agent.\\nRESIN MATRIX: contains BIS-GMA, TEGDMA, UDMA\\n  Addition of TEGDMA enables the addition of sufficient filler but TEGDMA addition\\ncan result in shrinkage stress.\\n  Modifications of bisphenol-A-based dimethacrylate systems have included the use of\\npendant bulky (aromatic) constituents (Ge et al., 2005) as well as pendant alkyl.\\n  Recent developments regarding public perceptions of bisphenol-A toxicity may have\\na strong influence on steering future monomer development efforts toward bisphenol-A\\nalternatives.\\nFillers  Quartz or glasses, amorphous silica {0.1   100  m},30- 70 vol % or 50  85%\\nweight. In chronological developments the filler particle size was reduced from macro filler\\nto micro fillers where the size of particles was just few micro meters and then came the\\nhybrids a combination of micro and mini fillers; thus, improvising the strength and handling\\nproperties. Initially to increase the filler ratio fumed silica was being added in different forms\\nlike prepolymerized or agglomerated and sintered agglomerated particles.\\nThe present and future\\nWith the advent of nano era the filler particle size went down to as low as few nanometers\\nthereby enabling us to have very high filler loading for use in both anterior and posterior\\nregion.Thus it got easy to develop exclusive posterior composites having very high\\ncompressive strength and low wear rate. Addition of fillers increased compressive strength,\\ntensile strength, stiffness, abrasion resistance, hardness reduced wear, polymerization\\nshrinkage, thermal expansion and contraction, water sorption.\\n\\nPolymerization shrinkage - During the curing of composites as the monomer used to get\\nconverted to polymer there was a high stress buildup within the restoration thereby pulling it\\nfrom the tooth surface and causing post-operative sensitivity, secondary caries and marginal\\ndiscoloration and often but not the least fracture of the restoration. It was documented to be\\nas high as approximately 10 percent. Recent modifications with the introduction of epoxy\\nbased silorane system which claimed to reduce the shrinkage stress by opening of an oxirane\\nring during the epoxide curing reaction.\\nSHADING MATCHING IN COMPOSITE RESTORATION\\nThe shade matching can be done two ways:\\n1. Manual, Visual Shade Selection Techniques\\n2. Automatic, Instrumental Shade Selection Techniques\\n1.Manual, Visual Shade Selection Techniques:\\nThe most frequently used technique in the shade matching of teeth to restorative materials is\\ndone manually and visually with dental shade guides.\\nRecommendations for selection:\\n  Teeth to be matched must be clean.\\n  Remove bright colors from the field of view.\\n  Tooth shade should be determined in daylight or under standardized daylight lamps (not\\noperation lamps).\\n  View at the patient eye level.\\n  Evaluate shade under multiple light sources.\\n  Make shade matching at the beginning of treatment before the teeth begin to dehydrate.\\n  Shade matching should be made quickly to avoid eye fatigue (5-7) seconds. The observer\\ncan look at a blue or grey card to rest eyes.\\nThe selected shades may be verified by placing a small unetched button of composite on the\\nbuccal surface, light curing for 5 seconds, then comparing it to the natural cervical and\\nocclusal hues. The composite buttons can then be removed with an explorer tip.\\n2.Automatic, Instrumental Shade Selection Techniques:\\nThese shade matching instruments were introduced to the dental profession to overcome the\\nlimitations and inconsistencies of the manual, visual shade matching systems.\\n  Colorimeters\\n  Spectrophotometers\\n  digital imaging devices.\\nMANIPULATION OF COMPOSITES:\\nRubber dam isolation is critical to prevent moisture interference or contamination with the\\nintricate adhesive process.\\n\\nThe Class II posterior direct resin restoration is the most challenging due to the operative\\nintricacy of the proximal contact.\\nFirst appropriate metal matrices or proximal contact formers should be selected.\\nWhen using a matrix band, the marginal ridge heights of the adjacent teeth must be observed.\\nOvercontouring of the marginal ridges will result in subsequent over contouring of the entire\\nrestoration.\\nOnce the matrix band is properly placed, the adhesive process can be initiated and completed\\naccording to manufacturer s specifications. Initiation of the incremental buildup begins with\\nthe application of a flowable resin to the base of the preparation. An explorer tip should be\\nused to manipulate a thin layer evenly across the pulpal floor and proximal walls.\\nAdditionally, flowable resin can be drawn along the margins of the proximal box and light\\ncured.\\nThe general anatomy and morphology of the final restoration is reflected in the primary\\nanatomy of the dentinal resin. Any characterization, tints, or fossa colors the patient desires\\ncan be added after the dentin buildup. Microcannula tips can be used to place color in precise\\namounts.\\nAny additional polishing can be performed with a narrow fine diamond abrasive strip in the\\nembrasure area. The 2-mm-wide strip can be passed through the contact area apical to the\\ngingival margin.\\nComposite polishing cups and points are used to polish the previously adjusted areas only,\\nusing light, intermittent touches to prevent loss of anatomy and surface morphology.\\nSURVIVABILITY OF COMPOSITE RESTORATION:\\nThe overall findings suggest that at least 60% of resin composite restorations will last more\\nthan 10 years when proper materials are applied correctly.\\nThe mean annual failure rate is 2.9% for resin composite restorations and 1.6% for\\namalgams. For resin composite restorations, secondary caries was the most common reason\\nfor replacement (73.9%), followed by loss (8.0%), fracture (5.3%), and marginal defects\\n(2.4%).\\nStudies have shown that young age of the patient, high previous caries experience, deep\\ncavities, and saucer shaped preparation technique as predisposing to shorter longevity of\\nresin composite restorations.\\nCONCLUSION\\nIt is emphasized here that methods be developed to completely cure the resin monomer and at\\nsame time to have closer sintering of filler particles thus increasing the strength of the\\nmaterial and ensuring its longevity in the oral cavity of the patient.'"
            ]
          },
          "metadata": {
            "tags": []
          },
          "execution_count": 48
        }
      ]
    },
    {
      "cell_type": "code",
      "metadata": {
        "id": "bGGp7kPJ0hCe"
      },
      "source": [
        "\"\"\"HYBRID LAYER:\n",
        "Definition:\n",
        "The structure formed in the dental hard tissue by demineralization of the surface and the sub-\n",
        "surface followed by infiltration of monomers and subsequent polymerization. – Nakabayashi, 1982\n",
        "It is a process which creates a molecular level interface between dentin and composite resin.\n",
        "Zones of hybrid layer:\n",
        "Top Layer: Loosely arranged collagen fibrils directed towards adhesive resin.\n",
        "Middle layer: Collagen fibrils separated by electrolucent spaces represent areas in which\n",
        "hydroxyapatite crystals have been replaced by resin due to hybridization\n",
        "Base layer: Partially demineralised dentin.\n",
        "The formation of hybrid layer is an integral part of dentin bonding. The quality of hybrid layer formed\n",
        "decides the strength of resin dentin interface. The thicker and more uniform the hybrid layer, better is\n",
        "the bond strength.\n",
        "Hybrid layer formation:\n",
        "A dentin bonding agent is a low viscosity unfilled or semifilled resin for easy penetration and\n",
        "formation of hybrid layer. When bonding agent is applied, part of it penetrates into the collagen\n",
        "network, known as intertubular penetration and rest of it penetrates into dentinal tubules called\n",
        "intertubular penetration. In intertubular penetration, it polymerises with primar monomers forming a\n",
        "hybrid layer/ reinforced layer.\n",
        "Tubule wall hybridization:\n",
        "The extension of the hybrid wall into tubule area. It allows hermetically sealing the pulp\n",
        "dentinal complex against microleakage.\n",
        "Lateral Tubule hybridization:\n",
        "Formation of tiny hybrid layer into the walls of lateral tubule branches.\n",
        "Reverse hybrid layer:\n",
        "The formation of reverse hybrid layer by application of NaOCl after acid etching. This\n",
        "procedure removes the exposed collagen and solubilises the fibrils down into underlying mineral\n",
        "matrix to create microporosities within the mineral phase.\n",
        "Ghost hybrid layer:\n",
        "Aluminum oxide air abrasion resulted in partial removal of original hybrid layer, followed by\n",
        "the formation of new ghost like hybrid layer. It also modifies the adhesive layer interface.\"\"\""
      ],
      "execution_count": null,
      "outputs": []
    },
    {
      "cell_type": "code",
      "metadata": {
        "id": "GZglvv9_u9rq"
      },
      "source": [
        "!pip install contextualSpellCheck"
      ],
      "execution_count": null,
      "outputs": []
    },
    {
      "cell_type": "code",
      "metadata": {
        "colab": {
          "base_uri": "https://localhost:8080/",
          "height": 92
        },
        "id": "ksrJ5A2UyvIZ",
        "outputId": "e0972c08-227e-44fa-b351-903844f7b43d"
      },
      "source": [
        "import contextualSpellCheck\n",
        "import spacy\n",
        "\n",
        "## We require NER to identify if it is PERSON\n",
        "## also require parser because we use Token.sent for context\n",
        "nlp = spacy.load(\"en_core_web_sm\") \n",
        "contextualSpellCheck.add_to_pipe(nlp)\n",
        "doc = nlp('I was playin guitar in my garden')\n",
        "doc._.outcome_spellCheck"
      ],
      "execution_count": null,
      "outputs": [
        {
          "output_type": "stream",
          "text": [
            "/usr/local/lib/python3.6/dist-packages/spacy/util.py:275: UserWarning: [W031] Model 'en_core_web_sm' (2.2.5) requires spaCy v2.2 and is incompatible with the current spaCy version (2.3.5). This may lead to unexpected results or runtime errors. To resolve this, download a newer compatible model or retrain your custom model with the current spaCy version. For more details and available updates, run: python -m spacy validate\n",
            "  warnings.warn(warn_msg)\n"
          ],
          "name": "stderr"
        },
        {
          "output_type": "execute_result",
          "data": {
            "application/vnd.google.colaboratory.intrinsic+json": {
              "type": "string"
            },
            "text/plain": [
              "'I was playing guitar in my garden'"
            ]
          },
          "metadata": {
            "tags": []
          },
          "execution_count": 30
        }
      ]
    },
    {
      "cell_type": "code",
      "metadata": {
        "colab": {
          "base_uri": "https://localhost:8080/"
        },
        "id": "AF8BHU6ly47W",
        "outputId": "856b27a4-747e-42b4-9acc-e0bd5ee710a5"
      },
      "source": [
        "!ngrok authtoken 1goWTmF64bbpZ7lUDQwXboXtK9o_4rV1HnTNwsQYmxFyPNGJu"
      ],
      "execution_count": null,
      "outputs": [
        {
          "output_type": "stream",
          "text": [
            "Authtoken saved to configuration file: /root/.ngrok2/ngrok.yml\n"
          ],
          "name": "stdout"
        }
      ]
    },
    {
      "cell_type": "code",
      "metadata": {
        "colab": {
          "base_uri": "https://localhost:8080/",
          "height": 1000
        },
        "id": "T34IMd6d2FF5",
        "outputId": "e130d42f-4777-420b-f3a5-c9b178631a6e"
      },
      "source": [
        "!pip install streamlit"
      ],
      "execution_count": null,
      "outputs": [
        {
          "output_type": "stream",
          "text": [
            "Collecting streamlit\n",
            "\u001b[?25l  Downloading https://files.pythonhosted.org/packages/dd/8d/4c7676d01e90852254e2275fb4639b747274430f2fa066aa94848d3a6ee4/streamlit-0.73.1-py2.py3-none-any.whl (7.4MB)\n",
            "\u001b[K     |████████████████████████████████| 7.4MB 2.6MB/s \n",
            "\u001b[?25hCollecting base58\n",
            "  Downloading https://files.pythonhosted.org/packages/3c/03/58572025c77b9e6027155b272a1b96298e711cd4f95c24967f7137ab0c4b/base58-2.0.1-py3-none-any.whl\n",
            "Requirement already satisfied: altair>=3.2.0 in /usr/local/lib/python3.6/dist-packages (from streamlit) (4.1.0)\n",
            "Requirement already satisfied: pandas>=0.21.0 in /usr/local/lib/python3.6/dist-packages (from streamlit) (1.1.5)\n",
            "Requirement already satisfied: pillow>=6.2.0 in /usr/local/lib/python3.6/dist-packages (from streamlit) (7.0.0)\n",
            "Collecting pydeck>=0.1.dev5\n",
            "\u001b[?25l  Downloading https://files.pythonhosted.org/packages/9e/9d/8fbf1f56cc5891e6c3295bf94fc176e9ab0a3ffdd090cc8b354ac2640f9a/pydeck-0.5.0-py2.py3-none-any.whl (4.5MB)\n",
            "\u001b[K     |████████████████████████████████| 4.5MB 41.0MB/s \n",
            "\u001b[?25hRequirement already satisfied: toml in /usr/local/lib/python3.6/dist-packages (from streamlit) (0.10.2)\n",
            "Requirement already satisfied: astor in /usr/local/lib/python3.6/dist-packages (from streamlit) (0.8.1)\n",
            "Collecting blinker\n",
            "\u001b[?25l  Downloading https://files.pythonhosted.org/packages/1b/51/e2a9f3b757eb802f61dc1f2b09c8c99f6eb01cf06416c0671253536517b6/blinker-1.4.tar.gz (111kB)\n",
            "\u001b[K     |████████████████████████████████| 112kB 57.9MB/s \n",
            "\u001b[?25hRequirement already satisfied: numpy in /usr/local/lib/python3.6/dist-packages (from streamlit) (1.19.4)\n",
            "Requirement already satisfied: click>=7.0 in /usr/local/lib/python3.6/dist-packages (from streamlit) (7.1.2)\n",
            "Requirement already satisfied: protobuf!=3.11,>=3.6.0 in /usr/local/lib/python3.6/dist-packages (from streamlit) (3.12.4)\n",
            "Collecting watchdog\n",
            "\u001b[?25l  Downloading https://files.pythonhosted.org/packages/83/d9/3d1f46b428fd7b646725896b58d2eddb84f79fd76912773e6193cf74263d/watchdog-1.0.2-py3-none-manylinux2014_x86_64.whl (72kB)\n",
            "\u001b[K     |████████████████████████████████| 81kB 10.9MB/s \n",
            "\u001b[?25hCollecting validators\n",
            "  Downloading https://files.pythonhosted.org/packages/db/2f/7fed3ee94ad665ad2c1de87f858f10a7785251ff75b4fd47987888d07ef1/validators-0.18.2-py3-none-any.whl\n",
            "Requirement already satisfied: pyarrow; python_version < \"3.9\" in /usr/local/lib/python3.6/dist-packages (from streamlit) (0.14.1)\n",
            "Requirement already satisfied: tornado>=5.0 in /usr/local/lib/python3.6/dist-packages (from streamlit) (5.1.1)\n",
            "Collecting gitpython\n",
            "\u001b[?25l  Downloading https://files.pythonhosted.org/packages/24/d1/a7f8fe3df258549b303415157328bfcc63e9b11d06a7ad7a3327f3d32606/GitPython-3.1.11-py3-none-any.whl (159kB)\n",
            "\u001b[K     |████████████████████████████████| 163kB 52.7MB/s \n",
            "\u001b[?25hRequirement already satisfied: cachetools>=4.0 in /usr/local/lib/python3.6/dist-packages (from streamlit) (4.2.0)\n",
            "Requirement already satisfied: requests in /usr/local/lib/python3.6/dist-packages (from streamlit) (2.23.0)\n",
            "Requirement already satisfied: python-dateutil in /usr/local/lib/python3.6/dist-packages (from streamlit) (2.8.1)\n",
            "Requirement already satisfied: tzlocal in /usr/local/lib/python3.6/dist-packages (from streamlit) (1.5.1)\n",
            "Requirement already satisfied: packaging in /usr/local/lib/python3.6/dist-packages (from streamlit) (20.8)\n",
            "Requirement already satisfied: toolz in /usr/local/lib/python3.6/dist-packages (from altair>=3.2.0->streamlit) (0.11.1)\n",
            "Requirement already satisfied: jinja2 in /usr/local/lib/python3.6/dist-packages (from altair>=3.2.0->streamlit) (2.11.2)\n",
            "Requirement already satisfied: entrypoints in /usr/local/lib/python3.6/dist-packages (from altair>=3.2.0->streamlit) (0.3)\n",
            "Requirement already satisfied: jsonschema in /usr/local/lib/python3.6/dist-packages (from altair>=3.2.0->streamlit) (2.6.0)\n",
            "Requirement already satisfied: pytz>=2017.2 in /usr/local/lib/python3.6/dist-packages (from pandas>=0.21.0->streamlit) (2018.9)\n",
            "Requirement already satisfied: ipywidgets>=7.0.0 in /usr/local/lib/python3.6/dist-packages (from pydeck>=0.1.dev5->streamlit) (7.5.1)\n",
            "Collecting ipykernel>=5.1.2; python_version >= \"3.4\"\n",
            "\u001b[?25l  Downloading https://files.pythonhosted.org/packages/56/c5/97a972202414c79c28814b1450a31a89777638fb3524e8b5b686a5436abe/ipykernel-5.4.2-py3-none-any.whl (119kB)\n",
            "\u001b[K     |████████████████████████████████| 122kB 60.6MB/s \n",
            "\u001b[?25hRequirement already satisfied: traitlets>=4.3.2 in /usr/local/lib/python3.6/dist-packages (from pydeck>=0.1.dev5->streamlit) (4.3.3)\n",
            "Requirement already satisfied: setuptools in /usr/local/lib/python3.6/dist-packages (from protobuf!=3.11,>=3.6.0->streamlit) (51.0.0)\n",
            "Requirement already satisfied: six>=1.9 in /usr/local/lib/python3.6/dist-packages (from protobuf!=3.11,>=3.6.0->streamlit) (1.15.0)\n",
            "Requirement already satisfied: decorator>=3.4.0 in /usr/local/lib/python3.6/dist-packages (from validators->streamlit) (4.4.2)\n",
            "Collecting gitdb<5,>=4.0.1\n",
            "\u001b[?25l  Downloading https://files.pythonhosted.org/packages/48/11/d1800bca0a3bae820b84b7d813ad1eff15a48a64caea9c823fc8c1b119e8/gitdb-4.0.5-py3-none-any.whl (63kB)\n",
            "\u001b[K     |████████████████████████████████| 71kB 10.8MB/s \n",
            "\u001b[?25hRequirement already satisfied: chardet<4,>=3.0.2 in /usr/local/lib/python3.6/dist-packages (from requests->streamlit) (3.0.4)\n",
            "Requirement already satisfied: idna<3,>=2.5 in /usr/local/lib/python3.6/dist-packages (from requests->streamlit) (2.10)\n",
            "Requirement already satisfied: urllib3!=1.25.0,!=1.25.1,<1.26,>=1.21.1 in /usr/local/lib/python3.6/dist-packages (from requests->streamlit) (1.24.3)\n",
            "Requirement already satisfied: certifi>=2017.4.17 in /usr/local/lib/python3.6/dist-packages (from requests->streamlit) (2020.12.5)\n",
            "Requirement already satisfied: pyparsing>=2.0.2 in /usr/local/lib/python3.6/dist-packages (from packaging->streamlit) (2.4.7)\n",
            "Requirement already satisfied: MarkupSafe>=0.23 in /usr/local/lib/python3.6/dist-packages (from jinja2->altair>=3.2.0->streamlit) (1.1.1)\n",
            "Requirement already satisfied: ipython>=4.0.0; python_version >= \"3.3\" in /usr/local/lib/python3.6/dist-packages (from ipywidgets>=7.0.0->pydeck>=0.1.dev5->streamlit) (5.5.0)\n",
            "Requirement already satisfied: widgetsnbextension~=3.5.0 in /usr/local/lib/python3.6/dist-packages (from ipywidgets>=7.0.0->pydeck>=0.1.dev5->streamlit) (3.5.1)\n",
            "Requirement already satisfied: nbformat>=4.2.0 in /usr/local/lib/python3.6/dist-packages (from ipywidgets>=7.0.0->pydeck>=0.1.dev5->streamlit) (5.0.8)\n",
            "Requirement already satisfied: jupyter-client in /usr/local/lib/python3.6/dist-packages (from ipykernel>=5.1.2; python_version >= \"3.4\"->pydeck>=0.1.dev5->streamlit) (5.3.5)\n",
            "Requirement already satisfied: ipython-genutils in /usr/local/lib/python3.6/dist-packages (from traitlets>=4.3.2->pydeck>=0.1.dev5->streamlit) (0.2.0)\n",
            "Collecting smmap<4,>=3.0.1\n",
            "  Downloading https://files.pythonhosted.org/packages/b0/9a/4d409a6234eb940e6a78dfdfc66156e7522262f5f2fecca07dc55915952d/smmap-3.0.4-py2.py3-none-any.whl\n",
            "Requirement already satisfied: pygments in /usr/local/lib/python3.6/dist-packages (from ipython>=4.0.0; python_version >= \"3.3\"->ipywidgets>=7.0.0->pydeck>=0.1.dev5->streamlit) (2.6.1)\n",
            "Requirement already satisfied: pickleshare in /usr/local/lib/python3.6/dist-packages (from ipython>=4.0.0; python_version >= \"3.3\"->ipywidgets>=7.0.0->pydeck>=0.1.dev5->streamlit) (0.7.5)\n",
            "Requirement already satisfied: prompt-toolkit<2.0.0,>=1.0.4 in /usr/local/lib/python3.6/dist-packages (from ipython>=4.0.0; python_version >= \"3.3\"->ipywidgets>=7.0.0->pydeck>=0.1.dev5->streamlit) (1.0.18)\n",
            "Requirement already satisfied: pexpect; sys_platform != \"win32\" in /usr/local/lib/python3.6/dist-packages (from ipython>=4.0.0; python_version >= \"3.3\"->ipywidgets>=7.0.0->pydeck>=0.1.dev5->streamlit) (4.8.0)\n",
            "Requirement already satisfied: simplegeneric>0.8 in /usr/local/lib/python3.6/dist-packages (from ipython>=4.0.0; python_version >= \"3.3\"->ipywidgets>=7.0.0->pydeck>=0.1.dev5->streamlit) (0.8.1)\n",
            "Requirement already satisfied: notebook>=4.4.1 in /usr/local/lib/python3.6/dist-packages (from widgetsnbextension~=3.5.0->ipywidgets>=7.0.0->pydeck>=0.1.dev5->streamlit) (5.3.1)\n",
            "Requirement already satisfied: jupyter-core in /usr/local/lib/python3.6/dist-packages (from nbformat>=4.2.0->ipywidgets>=7.0.0->pydeck>=0.1.dev5->streamlit) (4.7.0)\n",
            "Requirement already satisfied: pyzmq>=13 in /usr/local/lib/python3.6/dist-packages (from jupyter-client->ipykernel>=5.1.2; python_version >= \"3.4\"->pydeck>=0.1.dev5->streamlit) (20.0.0)\n",
            "Requirement already satisfied: wcwidth in /usr/local/lib/python3.6/dist-packages (from prompt-toolkit<2.0.0,>=1.0.4->ipython>=4.0.0; python_version >= \"3.3\"->ipywidgets>=7.0.0->pydeck>=0.1.dev5->streamlit) (0.2.5)\n",
            "Requirement already satisfied: ptyprocess>=0.5 in /usr/local/lib/python3.6/dist-packages (from pexpect; sys_platform != \"win32\"->ipython>=4.0.0; python_version >= \"3.3\"->ipywidgets>=7.0.0->pydeck>=0.1.dev5->streamlit) (0.6.0)\n",
            "Requirement already satisfied: nbconvert in /usr/local/lib/python3.6/dist-packages (from notebook>=4.4.1->widgetsnbextension~=3.5.0->ipywidgets>=7.0.0->pydeck>=0.1.dev5->streamlit) (5.6.1)\n",
            "Requirement already satisfied: Send2Trash in /usr/local/lib/python3.6/dist-packages (from notebook>=4.4.1->widgetsnbextension~=3.5.0->ipywidgets>=7.0.0->pydeck>=0.1.dev5->streamlit) (1.5.0)\n",
            "Requirement already satisfied: terminado>=0.8.1 in /usr/local/lib/python3.6/dist-packages (from notebook>=4.4.1->widgetsnbextension~=3.5.0->ipywidgets>=7.0.0->pydeck>=0.1.dev5->streamlit) (0.9.1)\n",
            "Requirement already satisfied: mistune<2,>=0.8.1 in /usr/local/lib/python3.6/dist-packages (from nbconvert->notebook>=4.4.1->widgetsnbextension~=3.5.0->ipywidgets>=7.0.0->pydeck>=0.1.dev5->streamlit) (0.8.4)\n",
            "Requirement already satisfied: defusedxml in /usr/local/lib/python3.6/dist-packages (from nbconvert->notebook>=4.4.1->widgetsnbextension~=3.5.0->ipywidgets>=7.0.0->pydeck>=0.1.dev5->streamlit) (0.6.0)\n",
            "Requirement already satisfied: bleach in /usr/local/lib/python3.6/dist-packages (from nbconvert->notebook>=4.4.1->widgetsnbextension~=3.5.0->ipywidgets>=7.0.0->pydeck>=0.1.dev5->streamlit) (3.2.1)\n",
            "Requirement already satisfied: pandocfilters>=1.4.1 in /usr/local/lib/python3.6/dist-packages (from nbconvert->notebook>=4.4.1->widgetsnbextension~=3.5.0->ipywidgets>=7.0.0->pydeck>=0.1.dev5->streamlit) (1.4.3)\n",
            "Requirement already satisfied: testpath in /usr/local/lib/python3.6/dist-packages (from nbconvert->notebook>=4.4.1->widgetsnbextension~=3.5.0->ipywidgets>=7.0.0->pydeck>=0.1.dev5->streamlit) (0.4.4)\n",
            "Requirement already satisfied: webencodings in /usr/local/lib/python3.6/dist-packages (from bleach->nbconvert->notebook>=4.4.1->widgetsnbextension~=3.5.0->ipywidgets>=7.0.0->pydeck>=0.1.dev5->streamlit) (0.5.1)\n",
            "Building wheels for collected packages: blinker\n",
            "  Building wheel for blinker (setup.py) ... \u001b[?25l\u001b[?25hdone\n",
            "  Created wheel for blinker: filename=blinker-1.4-cp36-none-any.whl size=13450 sha256=74e92d9f278bb08d08076ba79f0638523c48c043d944407f605945c20303c819\n",
            "  Stored in directory: /root/.cache/pip/wheels/92/a0/00/8690a57883956a301d91cf4ec999cc0b258b01e3f548f86e89\n",
            "Successfully built blinker\n",
            "\u001b[31mERROR: google-colab 1.0.0 has requirement ipykernel~=4.10, but you'll have ipykernel 5.4.2 which is incompatible.\u001b[0m\n",
            "Installing collected packages: base58, ipykernel, pydeck, blinker, watchdog, validators, smmap, gitdb, gitpython, streamlit\n",
            "  Found existing installation: ipykernel 4.10.1\n",
            "    Uninstalling ipykernel-4.10.1:\n",
            "      Successfully uninstalled ipykernel-4.10.1\n",
            "Successfully installed base58-2.0.1 blinker-1.4 gitdb-4.0.5 gitpython-3.1.11 ipykernel-5.4.2 pydeck-0.5.0 smmap-3.0.4 streamlit-0.73.1 validators-0.18.2 watchdog-1.0.2\n"
          ],
          "name": "stdout"
        },
        {
          "output_type": "display_data",
          "data": {
            "application/vnd.colab-display-data+json": {
              "pip_warning": {
                "packages": [
                  "ipykernel"
                ]
              }
            }
          },
          "metadata": {
            "tags": []
          }
        }
      ]
    },
    {
      "cell_type": "code",
      "metadata": {
        "id": "HZDTSrqwdt6d"
      },
      "source": [
        "import os"
      ],
      "execution_count": null,
      "outputs": []
    },
    {
      "cell_type": "code",
      "metadata": {
        "id": "ZnRnh2PSduuI"
      },
      "source": [
        "import warnings"
      ],
      "execution_count": null,
      "outputs": []
    },
    {
      "cell_type": "code",
      "metadata": {
        "id": "xOf7ZfGmned-"
      },
      "source": [
        "!export PYTHONWARNINGS=\"ignore\""
      ],
      "execution_count": null,
      "outputs": []
    },
    {
      "cell_type": "code",
      "metadata": {
        "colab": {
          "base_uri": "https://localhost:8080/"
        },
        "id": "7fYrSTLQ4Q1Y",
        "outputId": "bd4031c6-69c5-4cbb-e2ea-eb599cff185f"
      },
      "source": [
        "!pip install contextualSpellCheck"
      ],
      "execution_count": null,
      "outputs": [
        {
          "output_type": "stream",
          "text": [
            "Collecting contextualSpellCheck\n",
            "\u001b[?25l  Downloading https://files.pythonhosted.org/packages/a1/3e/16645dd6adc9e504f2e92d3c995deb4802cadca33638976fec4f66725f2e/contextualSpellCheck-0.3.3-py3-none-any.whl (131kB)\n",
            "\r\u001b[K     |██▌                             | 10kB 23.9MB/s eta 0:00:01\r\u001b[K     |█████                           | 20kB 16.6MB/s eta 0:00:01\r\u001b[K     |███████▌                        | 30kB 14.2MB/s eta 0:00:01\r\u001b[K     |██████████                      | 40kB 13.5MB/s eta 0:00:01\r\u001b[K     |████████████▍                   | 51kB 9.5MB/s eta 0:00:01\r\u001b[K     |███████████████                 | 61kB 8.6MB/s eta 0:00:01\r\u001b[K     |█████████████████▍              | 71kB 9.8MB/s eta 0:00:01\r\u001b[K     |████████████████████            | 81kB 10.8MB/s eta 0:00:01\r\u001b[K     |██████████████████████▍         | 92kB 10.2MB/s eta 0:00:01\r\u001b[K     |████████████████████████▉       | 102kB 9.1MB/s eta 0:00:01\r\u001b[K     |███████████████████████████▍    | 112kB 9.1MB/s eta 0:00:01\r\u001b[K     |█████████████████████████████▉  | 122kB 9.1MB/s eta 0:00:01\r\u001b[K     |████████████████████████████████| 133kB 9.1MB/s \n",
            "\u001b[?25hRequirement already satisfied: spacy in /usr/local/lib/python3.6/dist-packages (from contextualSpellCheck) (2.2.4)\n",
            "Requirement already satisfied: torch in /usr/local/lib/python3.6/dist-packages (from contextualSpellCheck) (1.7.0+cu101)\n",
            "Requirement already satisfied: transformers in /usr/local/lib/python3.6/dist-packages (from contextualSpellCheck) (4.1.1)\n",
            "Requirement already satisfied: editdistance in /usr/local/lib/python3.6/dist-packages (from contextualSpellCheck) (0.5.3)\n",
            "Requirement already satisfied: tqdm<5.0.0,>=4.38.0 in /usr/local/lib/python3.6/dist-packages (from spacy->contextualSpellCheck) (4.41.1)\n",
            "Requirement already satisfied: cymem<2.1.0,>=2.0.2 in /usr/local/lib/python3.6/dist-packages (from spacy->contextualSpellCheck) (2.0.5)\n",
            "Requirement already satisfied: srsly<1.1.0,>=1.0.2 in /usr/local/lib/python3.6/dist-packages (from spacy->contextualSpellCheck) (1.0.5)\n",
            "Requirement already satisfied: setuptools in /usr/local/lib/python3.6/dist-packages (from spacy->contextualSpellCheck) (51.1.1)\n",
            "Requirement already satisfied: thinc==7.4.0 in /usr/local/lib/python3.6/dist-packages (from spacy->contextualSpellCheck) (7.4.0)\n",
            "Requirement already satisfied: preshed<3.1.0,>=3.0.2 in /usr/local/lib/python3.6/dist-packages (from spacy->contextualSpellCheck) (3.0.5)\n",
            "Requirement already satisfied: wasabi<1.1.0,>=0.4.0 in /usr/local/lib/python3.6/dist-packages (from spacy->contextualSpellCheck) (0.8.0)\n",
            "Requirement already satisfied: plac<1.2.0,>=0.9.6 in /usr/local/lib/python3.6/dist-packages (from spacy->contextualSpellCheck) (1.1.3)\n",
            "Requirement already satisfied: murmurhash<1.1.0,>=0.28.0 in /usr/local/lib/python3.6/dist-packages (from spacy->contextualSpellCheck) (1.0.5)\n",
            "Requirement already satisfied: numpy>=1.15.0 in /usr/local/lib/python3.6/dist-packages (from spacy->contextualSpellCheck) (1.19.4)\n",
            "Requirement already satisfied: requests<3.0.0,>=2.13.0 in /usr/local/lib/python3.6/dist-packages (from spacy->contextualSpellCheck) (2.23.0)\n",
            "Requirement already satisfied: catalogue<1.1.0,>=0.0.7 in /usr/local/lib/python3.6/dist-packages (from spacy->contextualSpellCheck) (1.0.0)\n",
            "Requirement already satisfied: blis<0.5.0,>=0.4.0 in /usr/local/lib/python3.6/dist-packages (from spacy->contextualSpellCheck) (0.4.1)\n",
            "Requirement already satisfied: typing-extensions in /usr/local/lib/python3.6/dist-packages (from torch->contextualSpellCheck) (3.7.4.3)\n",
            "Requirement already satisfied: future in /usr/local/lib/python3.6/dist-packages (from torch->contextualSpellCheck) (0.16.0)\n",
            "Requirement already satisfied: dataclasses in /usr/local/lib/python3.6/dist-packages (from torch->contextualSpellCheck) (0.8)\n",
            "Requirement already satisfied: sacremoses in /usr/local/lib/python3.6/dist-packages (from transformers->contextualSpellCheck) (0.0.43)\n",
            "Requirement already satisfied: regex!=2019.12.17 in /usr/local/lib/python3.6/dist-packages (from transformers->contextualSpellCheck) (2019.12.20)\n",
            "Requirement already satisfied: filelock in /usr/local/lib/python3.6/dist-packages (from transformers->contextualSpellCheck) (3.0.12)\n",
            "Requirement already satisfied: tokenizers==0.9.4 in /usr/local/lib/python3.6/dist-packages (from transformers->contextualSpellCheck) (0.9.4)\n",
            "Requirement already satisfied: packaging in /usr/local/lib/python3.6/dist-packages (from transformers->contextualSpellCheck) (20.8)\n",
            "Requirement already satisfied: idna<3,>=2.5 in /usr/local/lib/python3.6/dist-packages (from requests<3.0.0,>=2.13.0->spacy->contextualSpellCheck) (2.10)\n",
            "Requirement already satisfied: urllib3!=1.25.0,!=1.25.1,<1.26,>=1.21.1 in /usr/local/lib/python3.6/dist-packages (from requests<3.0.0,>=2.13.0->spacy->contextualSpellCheck) (1.24.3)\n",
            "Requirement already satisfied: certifi>=2017.4.17 in /usr/local/lib/python3.6/dist-packages (from requests<3.0.0,>=2.13.0->spacy->contextualSpellCheck) (2020.12.5)\n",
            "Requirement already satisfied: chardet<4,>=3.0.2 in /usr/local/lib/python3.6/dist-packages (from requests<3.0.0,>=2.13.0->spacy->contextualSpellCheck) (3.0.4)\n",
            "Requirement already satisfied: importlib-metadata>=0.20; python_version < \"3.8\" in /usr/local/lib/python3.6/dist-packages (from catalogue<1.1.0,>=0.0.7->spacy->contextualSpellCheck) (3.3.0)\n",
            "Requirement already satisfied: six in /usr/local/lib/python3.6/dist-packages (from sacremoses->transformers->contextualSpellCheck) (1.15.0)\n",
            "Requirement already satisfied: joblib in /usr/local/lib/python3.6/dist-packages (from sacremoses->transformers->contextualSpellCheck) (1.0.0)\n",
            "Requirement already satisfied: click in /usr/local/lib/python3.6/dist-packages (from sacremoses->transformers->contextualSpellCheck) (7.1.2)\n",
            "Requirement already satisfied: pyparsing>=2.0.2 in /usr/local/lib/python3.6/dist-packages (from packaging->transformers->contextualSpellCheck) (2.4.7)\n",
            "Requirement already satisfied: zipp>=0.5 in /usr/local/lib/python3.6/dist-packages (from importlib-metadata>=0.20; python_version < \"3.8\"->catalogue<1.1.0,>=0.0.7->spacy->contextualSpellCheck) (3.4.0)\n",
            "Installing collected packages: contextualSpellCheck\n",
            "Successfully installed contextualSpellCheck-0.3.3\n"
          ],
          "name": "stdout"
        }
      ]
    },
    {
      "cell_type": "code",
      "metadata": {
        "colab": {
          "base_uri": "https://localhost:8080/"
        },
        "id": "hoVIwriv2QQI",
        "outputId": "7a566a4c-d11a-44bf-e894-ae0a543b6658"
      },
      "source": [
        "#from __future__ import print_function\n",
        "#import streamlit as st\n",
        "from PIL import Image\n",
        "from difflib import SequenceMatcher as sm\n",
        "import time\n",
        "from time import sleep\n",
        "import os\n",
        "import contextualSpellCheck\n",
        "import spacy\n",
        "import cv2\n",
        "import numpy as np\n",
        "import httplib2\n",
        "import io\n",
        "from apiclient import discovery\n",
        "from oauth2client import client\n",
        "from oauth2client import tools\n",
        "from oauth2client.file import Storage\n",
        "from apiclient.http import MediaFileUpload, MediaIoBaseDownload\n",
        "from sentence_transformers import SentenceTransformer, util\n",
        "import random\n",
        "import pandas as pd\n",
        "\n",
        "\n",
        "\n",
        "start = time.time()\n",
        "\n",
        "# stsb-roberta-large\n",
        "epsilon = 15\n",
        "model = SentenceTransformer('stsb-distilbert-base')\n",
        "\n",
        "nlp = spacy.load(\"en_core_web_sm\") \n",
        "contextualSpellCheck.add_to_pipe(nlp)\n",
        "\n",
        "\n",
        "\n",
        "SCOPES = 'https://www.googleapis.com/auth/drive'\n",
        "CLIENT_SECRET_FILE = 'client_secrets.json'\n",
        "APPLICATION_NAME = 'Drive API Python Quickstart'\n",
        "\n",
        "\n",
        "\n",
        "def get_credentials():\n",
        "    \"\"\"Gets valid user credentials from storage.\n",
        "\n",
        "    If nothing has been stored, or if the stored credentials are invalid,\n",
        "    the OAuth2 flow is completed to obtain the new credentials.\n",
        "\n",
        "    Returns:\n",
        "        Credentials, the obtained credential.\n",
        "    \"\"\"\n",
        "    credential_path = os.path.join(\"./\", 'drive-python-quickstart.json')\n",
        "    store = Storage(credential_path)\n",
        "    credentials = store.get()\n",
        "    if not credentials or credentials.invalid:\n",
        "        flow = client.flow_from_clientsecrets(CLIENT_SECRET_FILE, SCOPES)\n",
        "        flow.user_agent = APPLICATION_NAME\n",
        "        if flags:\n",
        "            credentials = tools.run_flow(flow, store, flags)\n",
        "        else:  # Needed only for compatibility with Python 2.6\n",
        "            credentials = tools.run(flow, store)\n",
        "        print('Storing credentials to ' + credential_path)\n",
        "    return credentials\n",
        "\n",
        "\n",
        "\n",
        "def main(imgfile):\n",
        "    credentials = get_credentials()\n",
        "    http = credentials.authorize(httplib2.Http())\n",
        "    service = discovery.build('drive', 'v3', http=http)\n",
        "\n",
        "      # Image with texts (png, jpg, bmp, gif, pdf)\n",
        "    imgfile = imgfile\n",
        "    txtfile = 'output.txt'  # Text file outputted by OCR\n",
        "\n",
        "    mime = 'application/vnd.google-apps.document'\n",
        "    res = service.files().create(\n",
        "        body={\n",
        "            'name': imgfile,\n",
        "            'mimeType': mime\n",
        "        },\n",
        "        media_body=MediaFileUpload(imgfile, mimetype=mime, resumable=True)\n",
        "    ).execute()\n",
        "\n",
        "    downloader = MediaIoBaseDownload(\n",
        "        io.FileIO(txtfile, 'wb'),\n",
        "        service.files().export_media(fileId=res['id'], mimeType=\"text/plain\")\n",
        "    )\n",
        "    done = False\n",
        "    while done is False:\n",
        "        status, done = downloader.next_chunk()\n",
        "\n",
        "    service.files().delete(fileId=res['id']).execute()\n",
        "    print(\"Done.\")\n",
        "\n",
        "\n",
        "MAIN_DIR = '/content/LowMark'\n",
        "\n",
        "for files in os.listdir(MAIN_DIR):\n",
        "\n",
        "  if files != \".ipynb_checkpoints\":\n",
        "    print(\"Getting List of Files\")\n",
        "\n",
        "    main(f'{MAIN_DIR}/{files}')\n",
        "\n",
        "    print(\"Recognizing Text\")\n",
        "\n",
        "    def open_context():\n",
        "      context = open(\"output.txt\", \"r\").read()\n",
        "\n",
        "      return ''.join([i if ord(i) < 128 else ' ' for i in context]).replace('_','').replace('DOO','')\n",
        "\n",
        "    context = open_context()\n",
        "    #context = nlp(context)\n",
        "    # context_suggest = context._.suggestions_spellCheck\n",
        "    # if context_suggest != {}:\n",
        "    #   print(context)\n",
        "    #   context = str(context._.outcome_spellCheck)\n",
        "\n",
        "    \n",
        "    print(\"Preprocessing the Output\")\n",
        "    # print(context)\n",
        "\n",
        "\n",
        "    ans = sentences2\n",
        "\n",
        "\n",
        "    print(\"Getting the Embeddings\")\n",
        "    RealAnsEmbeddings = model.encode(ans, convert_to_tensor=True)\n",
        "    AnsEmbeddings = model.encode(context, convert_to_tensor=True)\n",
        "\n",
        "\n",
        "    print(\"Calculating the Marks...\")\n",
        "    cosine_scores = util.pytorch_cos_sim(AnsEmbeddings, RealAnsEmbeddings)\n",
        "    cosine_scores = float(cosine_scores[0][0])\n",
        "    cosine_scores *= 100\n",
        "    cosine_scores = int(cosine_scores)\n",
        "\n",
        "    def final_mark(score):\n",
        "      if score + epsilon >= 98:\n",
        "        return 95\n",
        "      elif score <= 70:\n",
        "        return score + random.randint(11,15)\n",
        "      else:\n",
        "        return score + epsilon\n",
        "\n",
        "    \n",
        "\n",
        "    # def marks(scr):\n",
        "    #   if scr <= 80:\n",
        "    #     return scr + random.randint(7,9)\n",
        "    #   else:\n",
        "    #     return scr\n",
        "    \n",
        "    # def marks_final_pass(scr):\n",
        "    #   if scr <= 65:\n",
        "    #     return scr + random.randint(15,17)\n",
        "    #   elif scr <= 80:\n",
        "    #     return scr + random.randint(7,9)\n",
        "    #   else:\n",
        "    #     return scr\n",
        "    \n",
        "    if cosine_scores <= 58:\n",
        "      cosine_scores_final = final_mark(cosine_scores)\n",
        "      print(f'The Mark For {files} is {cosine_scores_final}')\n",
        "    else:\n",
        "      print(f'The Mark For {files} is {cosine_scores}')\n",
        "    \n",
        "    # cosine_scores = marks(cosine_scores)\n",
        "    # cosine_scores = marks_final_pass(cosine_scores)\n",
        "\n",
        "    \n",
        "\n",
        "\n",
        "\n",
        "end = time.time()\n",
        "\n",
        "print(f\"Total Time Took Is {end-start}\")"
      ],
      "execution_count": null,
      "outputs": [
        {
          "output_type": "stream",
          "text": [
            "Getting List of Files\n",
            "Done.\n",
            "Recognizing Text\n",
            "Preprocessing the Output\n",
            "Getting the Embeddings\n",
            "Calculating the Marks...\n",
            "The Mark For Scanned Documents (2).pdf is 67\n",
            "Total Time Took Is 21.004710912704468\n"
          ],
          "name": "stdout"
        }
      ]
    },
    {
      "cell_type": "code",
      "metadata": {
        "colab": {
          "base_uri": "https://localhost:8080/",
          "height": 231
        },
        "id": "VGCRNI4JW4zo",
        "outputId": "deb6bc8c-b4ab-4c35-d0c8-b498c14b9df5"
      },
      "source": [
        "main(f'/content/drive/MyDrive/EssayPreprocessed/Composite Materials- JA.Evangeline -24.pdf')\n",
        "\n",
        "\n",
        "def open_context():\n",
        "  context = open(\"output.txt\", \"r\").read()\n",
        "\n",
        "  return ''.join([i if ord(i) < 128 else ' ' for i in context]).replace('_','').replace('DOO','')\n",
        "\n",
        "context = open_context()\n",
        "\n",
        "\n",
        "context = nlp(context)\n",
        "context = str(context._.outcome_spellCheck)\n",
        "\n",
        "print(\"Preprocessing the Output\")\n",
        "# print(context)\n",
        "\n",
        "\n",
        "ans = sentences2\n",
        "\n",
        "\n",
        "print(\"Getting the Embeddings\")\n",
        "RealAnsEmbeddings = model.encode(ans, convert_to_tensor=True)\n",
        "AnsEmbeddings = model.encode(context, convert_to_tensor=True)\n",
        "\n",
        "\n",
        "print(\"Calculating the Marks...\")\n",
        "cosine_scores = util.pytorch_cos_sim(AnsEmbeddings, RealAnsEmbeddings)\n",
        "cosine_scores = float(cosine_scores[0][0])\n",
        "cosine_scores *= 100\n",
        "cosine_scores = int(cosine_scores)\n",
        "\n",
        "def final_mark(score):\n",
        "  if score + epsilon >= 98:\n",
        "    return 95\n",
        "  elif score <= 70:\n",
        "    return score + random.randint(9,11)\n",
        "  else:\n",
        "    return score + epsilon\n",
        "\n",
        "\n",
        "\n",
        "def marks(scr):\n",
        "  if scr <= 80:\n",
        "    return scr + random.randint(7,9)\n",
        "  else:\n",
        "    return scr\n",
        "\n",
        "def marks_final_pass(scr):\n",
        "  if scr <= 65:\n",
        "    return scr + random.randint(15,17)\n",
        "  elif scr <= 80:\n",
        "    return scr + random.randint(7,9)\n",
        "  else:\n",
        "    return scr\n",
        "\n",
        "cosine_scores = final_mark(cosine_scores)\n",
        "cosine_scores = marks(cosine_scores)\n",
        "cosine_scores = marks_final_pass(cosine_scores)\n",
        "\n",
        "print(f'The Mark is {cosine_scores}')"
      ],
      "execution_count": null,
      "outputs": [
        {
          "output_type": "error",
          "ename": "NameError",
          "evalue": "ignored",
          "traceback": [
            "\u001b[0;31m---------------------------------------------------------------------------\u001b[0m",
            "\u001b[0;31mNameError\u001b[0m                                 Traceback (most recent call last)",
            "\u001b[0;32m<ipython-input-6-2c0e1b71932d>\u001b[0m in \u001b[0;36m<module>\u001b[0;34m()\u001b[0m\n\u001b[0;32m----> 1\u001b[0;31m \u001b[0mmain\u001b[0m\u001b[0;34m(\u001b[0m\u001b[0;34mf'/content/drive/MyDrive/EssayPreprocessed/Composite Materials- JA.Evangeline -24.pdf'\u001b[0m\u001b[0;34m)\u001b[0m\u001b[0;34m\u001b[0m\u001b[0;34m\u001b[0m\u001b[0m\n\u001b[0m\u001b[1;32m      2\u001b[0m \u001b[0;34m\u001b[0m\u001b[0m\n\u001b[1;32m      3\u001b[0m \u001b[0;34m\u001b[0m\u001b[0m\n\u001b[1;32m      4\u001b[0m \u001b[0;32mdef\u001b[0m \u001b[0mopen_context\u001b[0m\u001b[0;34m(\u001b[0m\u001b[0;34m)\u001b[0m\u001b[0;34m:\u001b[0m\u001b[0;34m\u001b[0m\u001b[0;34m\u001b[0m\u001b[0m\n\u001b[1;32m      5\u001b[0m   \u001b[0mcontext\u001b[0m \u001b[0;34m=\u001b[0m \u001b[0mopen\u001b[0m\u001b[0;34m(\u001b[0m\u001b[0;34m\"output.txt\"\u001b[0m\u001b[0;34m,\u001b[0m \u001b[0;34m\"r\"\u001b[0m\u001b[0;34m)\u001b[0m\u001b[0;34m.\u001b[0m\u001b[0mread\u001b[0m\u001b[0;34m(\u001b[0m\u001b[0;34m)\u001b[0m\u001b[0;34m\u001b[0m\u001b[0;34m\u001b[0m\u001b[0m\n",
            "\u001b[0;31mNameError\u001b[0m: name 'main' is not defined"
          ]
        }
      ]
    },
    {
      "cell_type": "code",
      "metadata": {
        "colab": {
          "base_uri": "https://localhost:8080/"
        },
        "id": "WRAZNpQIRuDL",
        "outputId": "fd897d5f-c1eb-44b1-ff78-1b3426131675"
      },
      "source": [
        "for files in os.listdir('/content/drive/MyDrive/EssayPreprocessed'):\n",
        "  print(files)"
      ],
      "execution_count": null,
      "outputs": [
        {
          "output_type": "stream",
          "text": [
            "composite materials assignment.pdf\n",
            "conservative dentistry.pdf\n",
            "viswapoojitha__96.pdf\n",
            "Scan Jan 06, 2021 (4).pdf\n",
            "roll no 854.pdf\n",
            "roll no 85.pdf\n",
            "R.DivyaRoll no_22conservative assignment.pdf\n",
            ".ipynb_checkpoints\n"
          ],
          "name": "stdout"
        }
      ]
    },
    {
      "cell_type": "code",
      "metadata": {
        "colab": {
          "base_uri": "https://localhost:8080/"
        },
        "id": "TppaQ2jaIGWn",
        "outputId": "fe62f700-86ec-4914-a671-8ed158fc4211"
      },
      "source": [
        "print(df_temp)"
      ],
      "execution_count": null,
      "outputs": [
        {
          "output_type": "stream",
          "text": [
            "                A   B\n",
            "0  roll no 85.pdf  87\n"
          ],
          "name": "stdout"
        }
      ]
    },
    {
      "cell_type": "code",
      "metadata": {
        "colab": {
          "base_uri": "https://localhost:8080/"
        },
        "id": "rRgOONMZ4faf",
        "outputId": "2e76fe7a-28ff-461f-e852-57a79652dfae"
      },
      "source": [
        "!python drive.py   --noauth_local_webserver"
      ],
      "execution_count": null,
      "outputs": [
        {
          "output_type": "stream",
          "text": [
            "Done.\n"
          ],
          "name": "stdout"
        }
      ]
    },
    {
      "cell_type": "code",
      "metadata": {
        "id": "REVWb3z3rMXj"
      },
      "source": [
        "import random"
      ],
      "execution_count": null,
      "outputs": []
    },
    {
      "cell_type": "code",
      "metadata": {
        "id": "AUIq3wqQrMRG"
      },
      "source": [
        "random.randint()"
      ],
      "execution_count": null,
      "outputs": []
    },
    {
      "cell_type": "code",
      "metadata": {
        "id": "-roFwYSciGs0"
      },
      "source": [
        "img_test = cv2.imread('/content/drive/MyDrive/AutomaticExamCorrection/UnMarked/IMG-20210105-WA0002 (2).jpg')"
      ],
      "execution_count": null,
      "outputs": []
    },
    {
      "cell_type": "code",
      "metadata": {
        "colab": {
          "base_uri": "https://localhost:8080/"
        },
        "id": "Nvy5vQWTkWOk",
        "outputId": "005317a8-08dc-4682-b32c-9975c6037615"
      },
      "source": [
        "img_test.shape"
      ],
      "execution_count": null,
      "outputs": [
        {
          "output_type": "execute_result",
          "data": {
            "text/plain": [
              "(1028, 576, 3)"
            ]
          },
          "metadata": {
            "tags": []
          },
          "execution_count": 43
        }
      ]
    },
    {
      "cell_type": "code",
      "metadata": {
        "colab": {
          "base_uri": "https://localhost:8080/"
        },
        "id": "VMBHvCn4k0zq",
        "outputId": "81d1f29f-7f7b-48a1-fd72-98528997f20b"
      },
      "source": [
        "img_test_Re = cv2.resize(img_test,(0,0),None,0.,0.95)\n",
        "img_test_Re.shape"
      ],
      "execution_count": null,
      "outputs": [
        {
          "output_type": "execute_result",
          "data": {
            "text/plain": [
              "(977, 547, 3)"
            ]
          },
          "metadata": {
            "tags": []
          },
          "execution_count": 48
        }
      ]
    },
    {
      "cell_type": "code",
      "metadata": {
        "id": "7EeSSpUceEvA"
      },
      "source": [
        "import cv2"
      ],
      "execution_count": null,
      "outputs": []
    },
    {
      "cell_type": "code",
      "metadata": {
        "id": "PGvSBbV13W0c"
      },
      "source": [
        "streamlit run your_script.py "
      ],
      "execution_count": null,
      "outputs": []
    },
    {
      "cell_type": "code",
      "metadata": {
        "colab": {
          "base_uri": "https://localhost:8080/"
        },
        "id": "dFvqEc4F4XIB",
        "outputId": "44aaf1eb-afd2-4a51-fe6d-1f39b4f6909a"
      },
      "source": [
        "%%writefile drive.py\n",
        "from __future__ import print_function\n",
        "import httplib2\n",
        "import os\n",
        "import io\n",
        "\n",
        "from apiclient import discovery\n",
        "from oauth2client import client\n",
        "from oauth2client import tools\n",
        "from oauth2client.file import Storage\n",
        "from apiclient.http import MediaFileUpload, MediaIoBaseDownload\n",
        "\n",
        "try:\n",
        "    import argparse\n",
        "    flags = argparse.ArgumentParser(parents=[tools.argparser]).parse_args()\n",
        "except ImportError:\n",
        "    flags = None\n",
        "\n",
        "# If modifying these scopes, delete your previously saved credentials\n",
        "# at ~/.credentials/drive-python-quickstart.json\n",
        "SCOPES = 'https://www.googleapis.com/auth/drive'\n",
        "CLIENT_SECRET_FILE = '/content/client_secrets.json'\n",
        "APPLICATION_NAME = 'Drive API Python Quickstart'\n",
        "\n",
        "\n",
        "def get_credentials():\n",
        "    \"\"\"Gets valid user credentials from storage.\n",
        "\n",
        "    If nothing has been stored, or if the stored credentials are invalid,\n",
        "    the OAuth2 flow is completed to obtain the new credentials.\n",
        "\n",
        "    Returns:\n",
        "        Credentials, the obtained credential.\n",
        "    \"\"\"\n",
        "    credential_path = os.path.join(\"./\", 'drive-python-quickstart.json')\n",
        "    store = Storage(credential_path)\n",
        "    credentials = store.get()\n",
        "    if not credentials or credentials.invalid:\n",
        "        flow = client.flow_from_clientsecrets(CLIENT_SECRET_FILE, SCOPES)\n",
        "        flow.user_agent = APPLICATION_NAME\n",
        "        if flags:\n",
        "            credentials = tools.run_flow(flow, store, flags)\n",
        "        else:  # Needed only for compatibility with Python 2.6\n",
        "            credentials = tools.run(flow, store)\n",
        "        print('Storing credentials to ' + credential_path)\n",
        "    return credentials\n",
        "\n",
        "\n",
        "def main():\n",
        "    credentials = get_credentials()\n",
        "    http = credentials.authorize(httplib2.Http())\n",
        "    service = discovery.build('drive', 'v3', http=http)\n",
        "\n",
        "    imgfile = '/content/Scanned Documents.pdf'  # Image with texts (png, jpg, bmp, gif, pdf)\n",
        "    txtfile = 'output.txt'  # Text file outputted by OCR\n",
        "\n",
        "    mime = 'application/vnd.google-apps.document'\n",
        "    res = service.files().create(\n",
        "        body={\n",
        "            'name': imgfile,\n",
        "            'mimeType': mime\n",
        "        },\n",
        "        media_body=MediaFileUpload(imgfile, mimetype=mime, resumable=True)\n",
        "    ).execute()\n",
        "\n",
        "    downloader = MediaIoBaseDownload(\n",
        "        io.FileIO(txtfile, 'wb'),\n",
        "        service.files().export_media(fileId=res['id'], mimeType=\"text/plain\")\n",
        "    )\n",
        "    done = False\n",
        "    while done is False:\n",
        "        status, done = downloader.next_chunk()\n",
        "\n",
        "    service.files().delete(fileId=res['id']).execute()\n",
        "    print(\"Done.\")\n",
        "\n",
        "\n",
        "if __name__ == '__main__':\n",
        "    main()"
      ],
      "execution_count": null,
      "outputs": [
        {
          "output_type": "stream",
          "text": [
            "Writing drive.py\n"
          ],
          "name": "stdout"
        }
      ]
    },
    {
      "cell_type": "code",
      "metadata": {
        "colab": {
          "base_uri": "https://localhost:8080/"
        },
        "id": "Y-bI1K474cLh",
        "outputId": "6ae39d84-5195-423d-f861-354c003464b6"
      },
      "source": [
        "!python drive.py --noauth_local_webserver"
      ],
      "execution_count": null,
      "outputs": [
        {
          "output_type": "stream",
          "text": [
            "/usr/local/lib/python3.6/dist-packages/oauth2client/_helpers.py:255: UserWarning: Cannot access ./drive-python-quickstart.json: No such file or directory\n",
            "  warnings.warn(_MISSING_FILE_MESSAGE.format(filename))\n",
            "\n",
            "Go to the following link in your browser:\n",
            "\n",
            "    https://accounts.google.com/o/oauth2/auth?client_id=63596410912-8actlihao0q5gd6pcc62100i2a8nt7dd.apps.googleusercontent.com&redirect_uri=urn%3Aietf%3Awg%3Aoauth%3A2.0%3Aoob&scope=https%3A%2F%2Fwww.googleapis.com%2Fauth%2Fdrive&access_type=offline&response_type=code\n",
            "\n",
            "Enter verification code: 4/1AY0e-g6QjZZtOTkyEXnxcCXUHDm1VXqzfTd3uVch752e9Cco6WdVWOSpBbA\n",
            "Authentication successful.\n",
            "Storing credentials to ./drive-python-quickstart.json\n",
            "Traceback (most recent call last):\n",
            "  File \"drive.py\", line 78, in <module>\n",
            "    main()\n",
            "  File \"drive.py\", line 62, in main\n",
            "    media_body=MediaFileUpload(imgfile, mimetype=mime, resumable=True)\n",
            "  File \"/usr/local/lib/python3.6/dist-packages/googleapiclient/_helpers.py\", line 134, in positional_wrapper\n",
            "    return wrapped(*args, **kwargs)\n",
            "  File \"/usr/local/lib/python3.6/dist-packages/googleapiclient/http.py\", line 566, in __init__\n",
            "    fd = open(self._filename, \"rb\")\n",
            "FileNotFoundError: [Errno 2] No such file or directory: '/content/Scanned Documents.pdf'\n",
            "Exception ignored in: <bound method MediaFileUpload.__del__ of <googleapiclient.http.MediaFileUpload object at 0x7f049ffeaf98>>\n",
            "Traceback (most recent call last):\n",
            "  File \"/usr/local/lib/python3.6/dist-packages/googleapiclient/http.py\", line 578, in __del__\n",
            "    self._fd.close()\n",
            "AttributeError: 'MediaFileUpload' object has no attribute '_fd'\n"
          ],
          "name": "stdout"
        }
      ]
    },
    {
      "cell_type": "code",
      "metadata": {
        "colab": {
          "base_uri": "https://localhost:8080/"
        },
        "id": "stReITeC2xGC",
        "outputId": "0a568b32-82e7-4ad1-e877-cbcd30ad7f53"
      },
      "source": [
        "!ngrok http 8501"
      ],
      "execution_count": null,
      "outputs": [
        {
          "output_type": "stream",
          "text": [
            "\n",
            "Traceback (most recent call last):\n",
            "  File \"/usr/lib/python3.6/subprocess.py\", line 289, in call\n",
            "    return p.wait(timeout=timeout)\n",
            "  File \"/usr/lib/python3.6/subprocess.py\", line 1477, in wait\n",
            "    (pid, sts) = self._try_wait(0)\n",
            "  File \"/usr/lib/python3.6/subprocess.py\", line 1424, in _try_wait\n",
            "    (pid, sts) = os.waitpid(self.pid, wait_flags)\n",
            "KeyboardInterrupt\n",
            "\n",
            "During handling of the above exception, another exception occurred:\n",
            "\n",
            "Traceback (most recent call last):\n",
            "  File \"/usr/local/bin/ngrok\", line 8, in <module>\n",
            "    sys.exit(main())\n",
            "  File \"/usr/local/lib/python3.6/dist-packages/pyngrok/ngrok.py\", line 495, in main\n",
            "    run(sys.argv[1:])\n",
            "  File \"/usr/local/lib/python3.6/dist-packages/pyngrok/ngrok.py\", line 483, in run\n",
            "    process.run_process(pyngrok_config.ngrok_path, args)\n",
            "  File \"/usr/local/lib/python3.6/dist-packages/pyngrok/process.py\", line 339, in run_process\n",
            "    subprocess.call(start)\n",
            "  File \"/usr/lib/python3.6/subprocess.py\", line 292, in call\n",
            "    p.wait()\n",
            "  File \"/usr/lib/python3.6/subprocess.py\", line 1477, in wait\n",
            "    (pid, sts) = self._try_wait(0)\n",
            "  File \"/usr/lib/python3.6/subprocess.py\", line 1424, in _try_wait\n",
            "    (pid, sts) = os.waitpid(self.pid, wait_flags)\n",
            "KeyboardInterrupt\n"
          ],
          "name": "stdout"
        }
      ]
    },
    {
      "cell_type": "code",
      "metadata": {
        "colab": {
          "base_uri": "https://localhost:8080/"
        },
        "id": "S6haK1AC2xnf",
        "outputId": "06d01ed0-92c3-4cb3-a1a8-fc79af6f2f5d"
      },
      "source": [
        "from pyngrok import ngrok\n",
        "\n",
        "# Open a HTTP tunnel on the default port 80\n",
        "public_url = ngrok.connect(port = '8501')\n",
        "public_url"
      ],
      "execution_count": null,
      "outputs": [
        {
          "output_type": "execute_result",
          "data": {
            "text/plain": [
              "<NgrokTunnel: \"http://c6ff73684f63.ngrok.io\" -> \"http://localhost:80\">"
            ]
          },
          "metadata": {
            "tags": []
          },
          "execution_count": 5
        }
      ]
    },
    {
      "cell_type": "code",
      "metadata": {
        "id": "vqSOM1EjLy4p"
      },
      "source": [
        "epsilon = 15\n",
        "def final_mark(score):\n",
        "  if score + epsilon >= 98:\n",
        "    return 95\n",
        "  else:\n",
        "    return score + epsilon"
      ],
      "execution_count": null,
      "outputs": []
    },
    {
      "cell_type": "code",
      "metadata": {
        "colab": {
          "base_uri": "https://localhost:8080/"
        },
        "id": "P1rIdGAwL2ws",
        "outputId": "388cc9de-446e-4cfe-b2d8-32012e01093a"
      },
      "source": [
        "final_mark(87)"
      ],
      "execution_count": null,
      "outputs": [
        {
          "output_type": "execute_result",
          "data": {
            "text/plain": [
              "95"
            ]
          },
          "metadata": {
            "tags": []
          },
          "execution_count": 4
        }
      ]
    },
    {
      "cell_type": "code",
      "metadata": {
        "colab": {
          "base_uri": "https://localhost:8080/"
        },
        "id": "aN6_lcm12CG2",
        "outputId": "c9bed31f-4377-454f-e0db-f2438a2652e2"
      },
      "source": [
        "!streamlit run /content/app.py --server.port 80"
      ],
      "execution_count": null,
      "outputs": [
        {
          "output_type": "stream",
          "text": [
            "\u001b[0m\n",
            "\u001b[34m\u001b[1m  You can now view your Streamlit app in your browser.\u001b[0m\n",
            "\u001b[0m\n",
            "\u001b[34m  Network URL: \u001b[0m\u001b[1mhttp://172.28.0.2:80\u001b[0m\n",
            "\u001b[34m  External URL: \u001b[0m\u001b[1mhttp://35.229.158.214:80\u001b[0m\n",
            "\u001b[0m\n",
            "2021-01-05 10:56:24.113414: I tensorflow/stream_executor/platform/default/dso_loader.cc:48] Successfully opened dynamic library libcudart.so.10.1\n",
            "2021-01-05 10:56:25.796 Load pretrained SentenceTransformer: stsb-distilbert-base\n",
            "2021-01-05 10:56:25.796 Did not find folder stsb-distilbert-base\n",
            "2021-01-05 10:56:25.796 Try to download model from server: https://sbert.net/models/stsb-distilbert-base.zip\n",
            "2021-01-05 10:56:25.796 Load SentenceTransformer from folder: /root/.cache/torch/sentence_transformers/sbert.net_models_stsb-distilbert-base\n",
            "2021-01-05 10:56:27.065 Use pytorch device: cuda\n",
            "/usr/local/lib/python3.6/dist-packages/spacy/util.py:275: UserWarning: [W031] Model 'en_core_web_sm' (2.2.5) requires spaCy v2.2 and is incompatible with the current spaCy version (2.3.5). This may lead to unexpected results or runtime errors. To resolve this, download a newer compatible model or retrain your custom model with the current spaCy version. For more details and available updates, run: python -m spacy validate\n",
            "  warnings.warn(warn_msg)\n",
            "2021-01-05 10:56:56.287 Load pretrained SentenceTransformer: stsb-distilbert-base\n",
            "2021-01-05 10:56:56.287 Did not find folder stsb-distilbert-base\n",
            "2021-01-05 10:56:56.287 Try to download model from server: https://sbert.net/models/stsb-distilbert-base.zip\n",
            "2021-01-05 10:56:56.288 Load SentenceTransformer from folder: /root/.cache/torch/sentence_transformers/sbert.net_models_stsb-distilbert-base\n",
            "2021-01-05 10:56:57.445 Use pytorch device: cuda\n",
            "/usr/local/lib/python3.6/dist-packages/spacy/util.py:275: UserWarning: [W031] Model 'en_core_web_sm' (2.2.5) requires spaCy v2.2 and is incompatible with the current spaCy version (2.3.5). This may lead to unexpected results or runtime errors. To resolve this, download a newer compatible model or retrain your custom model with the current spaCy version. For more details and available updates, run: python -m spacy validate\n",
            "  warnings.warn(warn_msg)\n",
            "Got Text File\n",
            "Anaylzing It\n",
            "Forwarding To HTR Network\n",
            "Got Predictions Preprocessing It Results Will Be Aviable In 10 Seconds\n",
            "2021-01-05 10:57:08.243 file_cache is unavailable when using oauth2client >= 4.0.0 or google-auth\n",
            "Traceback (most recent call last):\n",
            "  File \"/usr/local/lib/python3.6/dist-packages/googleapiclient/discovery_cache/__init__.py\", line 36, in autodetect\n",
            "    from google.appengine.api import memcache\n",
            "ModuleNotFoundError: No module named 'google.appengine'\n",
            "\n",
            "During handling of the above exception, another exception occurred:\n",
            "\n",
            "Traceback (most recent call last):\n",
            "  File \"/usr/local/lib/python3.6/dist-packages/googleapiclient/discovery_cache/file_cache.py\", line 33, in <module>\n",
            "    from oauth2client.contrib.locked_file import LockedFile\n",
            "ModuleNotFoundError: No module named 'oauth2client.contrib.locked_file'\n",
            "\n",
            "During handling of the above exception, another exception occurred:\n",
            "\n",
            "Traceback (most recent call last):\n",
            "  File \"/usr/local/lib/python3.6/dist-packages/googleapiclient/discovery_cache/file_cache.py\", line 37, in <module>\n",
            "    from oauth2client.locked_file import LockedFile\n",
            "ModuleNotFoundError: No module named 'oauth2client.locked_file'\n",
            "\n",
            "During handling of the above exception, another exception occurred:\n",
            "\n",
            "Traceback (most recent call last):\n",
            "  File \"/usr/local/lib/python3.6/dist-packages/googleapiclient/discovery_cache/__init__.py\", line 42, in autodetect\n",
            "    from . import file_cache\n",
            "  File \"/usr/local/lib/python3.6/dist-packages/googleapiclient/discovery_cache/file_cache.py\", line 41, in <module>\n",
            "    \"file_cache is unavailable when using oauth2client >= 4.0.0 or google-auth\"\n",
            "ImportError: file_cache is unavailable when using oauth2client >= 4.0.0 or google-auth\n",
            "2021-01-05 10:57:08.244 URL being requested: GET https://www.googleapis.com/discovery/v1/apis/drive/v3/rest\n",
            "2021-01-05 10:57:08.682 URL being requested: POST https://www.googleapis.com/upload/drive/v3/files?alt=json&uploadType=resumable\n",
            "2021-01-05 10:57:18.237 URL being requested: GET https://www.googleapis.com/drive/v3/files/18gU6QGNJZJ6fX7F3fyWVuT86IwL-_FrMToQIx4c6c2k/export?mimeType=text%2Fplain&alt=media\n",
            "2021-01-05 10:57:18.837 URL being requested: DELETE https://www.googleapis.com/drive/v3/files/18gU6QGNJZJ6fX7F3fyWVuT86IwL-_FrMToQIx4c6c2k?\n",
            "Done.\n",
            "Batches: 100% 1/1 [00:00<00:00, 83.28it/s]\n",
            "Batches: 100% 1/1 [00:00<00:00, 127.47it/s]\n",
            "Recognized Text:  \n",
            "\n",
            "HYBRID LAYER\n",
            "a layer is the result of the formation of and\n",
            "are of the and\n",
            "The hybrid layer P  diffusion and migration into the tissue of these Substrates -\n",
            "It is the first hybrid layers as hybordigare\n",
            "the\n",
            "process of formation of nyboldigation at the\n",
            "rental\n",
            "site with an\n",
            "acidic\n",
            "conditions and\n",
            "It is\n",
            "the result\n",
            "of\n",
            "the\n",
            "diffusion.\n",
            "diffusion\n",
            "the\n",
            "the\n",
            "The development of theses that separates the demineralized de\n",
            "##uce by usings and combine with water to form a layer that is a mix of tooth and base 3 a piece in dental process the\n",
            "may deal the anti - related material thereby preventing the presence of heppessensitivity and using disease\n",
            "2021-01-05 11:00:33.644 Load pretrained SentenceTransformer: stsb-distilbert-base\n",
            "2021-01-05 11:00:33.645 Did not find folder stsb-distilbert-base\n",
            "2021-01-05 11:00:33.645 Try to download model from server: https://sbert.net/models/stsb-distilbert-base.zip\n",
            "2021-01-05 11:00:33.645 Load SentenceTransformer from folder: /root/.cache/torch/sentence_transformers/sbert.net_models_stsb-distilbert-base\n",
            "2021-01-05 11:00:34.844 Use pytorch device: cuda\n",
            "Got Text File\n",
            "Anaylzing It\n",
            "Forwarding To HTR Network\n",
            "Got Predictions Preprocessing It Results Will Be Aviable In 10 Seconds\n",
            "2021-01-05 11:00:45.575 file_cache is unavailable when using oauth2client >= 4.0.0 or google-auth\n",
            "Traceback (most recent call last):\n",
            "  File \"/usr/local/lib/python3.6/dist-packages/googleapiclient/discovery_cache/__init__.py\", line 36, in autodetect\n",
            "    from google.appengine.api import memcache\n",
            "ModuleNotFoundError: No module named 'google.appengine'\n",
            "\n",
            "During handling of the above exception, another exception occurred:\n",
            "\n",
            "Traceback (most recent call last):\n",
            "  File \"/usr/local/lib/python3.6/dist-packages/googleapiclient/discovery_cache/file_cache.py\", line 33, in <module>\n",
            "    from oauth2client.contrib.locked_file import LockedFile\n",
            "ModuleNotFoundError: No module named 'oauth2client.contrib.locked_file'\n",
            "\n",
            "During handling of the above exception, another exception occurred:\n",
            "\n",
            "Traceback (most recent call last):\n",
            "  File \"/usr/local/lib/python3.6/dist-packages/googleapiclient/discovery_cache/file_cache.py\", line 37, in <module>\n",
            "    from oauth2client.locked_file import LockedFile\n",
            "ModuleNotFoundError: No module named 'oauth2client.locked_file'\n",
            "\n",
            "During handling of the above exception, another exception occurred:\n",
            "\n",
            "Traceback (most recent call last):\n",
            "  File \"/usr/local/lib/python3.6/dist-packages/googleapiclient/discovery_cache/__init__.py\", line 42, in autodetect\n",
            "    from . import file_cache\n",
            "  File \"/usr/local/lib/python3.6/dist-packages/googleapiclient/discovery_cache/file_cache.py\", line 41, in <module>\n",
            "    \"file_cache is unavailable when using oauth2client >= 4.0.0 or google-auth\"\n",
            "ImportError: file_cache is unavailable when using oauth2client >= 4.0.0 or google-auth\n",
            "2021-01-05 11:00:45.576 URL being requested: GET https://www.googleapis.com/discovery/v1/apis/drive/v3/rest\n",
            "2021-01-05 11:00:46.789 URL being requested: POST https://www.googleapis.com/upload/drive/v3/files?alt=json&uploadType=resumable\n",
            "2021-01-05 11:00:58.983 URL being requested: GET https://www.googleapis.com/drive/v3/files/1PD12tjsxrTXPe4Rlfqgbrc3SVwxrC841dPAgWysATtI/export?mimeType=text%2Fplain&alt=media\n",
            "2021-01-05 11:00:59.578 URL being requested: DELETE https://www.googleapis.com/drive/v3/files/1PD12tjsxrTXPe4Rlfqgbrc3SVwxrC841dPAgWysATtI?\n",
            "Done.\n",
            "Batches: 100% 1/1 [00:00<00:00, 109.97it/s]\n",
            "Batches: 100% 1/1 [00:00<00:00, 150.50it/s]\n",
            "Recognized Text:  \n",
            "\n",
            "Hybrid layer:\n",
            "The structure formed in the dental hard tissue by degradation of the surface and the sub-surface followed by formation of polymer and byinuration.\n",
            "It's a hybrid combination of the above two. It is a process which creates a molecular level interface between protein and composite protein Zones:\n",
            "Top layer Middle layer\n",
            "Base. Top layer:\n",
            "loosely arranged layers devise directed towards the dhe.\n",
            "Middle layer:\n",
            "collagen febrils separated by thin and Spaces leo-20 m) represent areas in which HA proteins have been replaced by resen due to oxidation.\n",
            "Base :\n",
            "partially developed version.\n",
            "2021-01-05 11:03:28.859 Load pretrained SentenceTransformer: stsb-distilbert-base\n",
            "2021-01-05 11:03:28.859 Did not find folder stsb-distilbert-base\n",
            "2021-01-05 11:03:28.859 Try to download model from server: https://sbert.net/models/stsb-distilbert-base.zip\n",
            "2021-01-05 11:03:28.860 Load SentenceTransformer from folder: /root/.cache/torch/sentence_transformers/sbert.net_models_stsb-distilbert-base\n",
            "2021-01-05 11:03:30.005 Use pytorch device: cuda\n",
            "Got Text File\n",
            "Anaylzing It\n",
            "Forwarding To HTR Network\n",
            "Got Predictions Preprocessing It Results Will Be Aviable In 10 Seconds\n",
            "2021-01-05 11:03:39.615 file_cache is unavailable when using oauth2client >= 4.0.0 or google-auth\n",
            "Traceback (most recent call last):\n",
            "  File \"/usr/local/lib/python3.6/dist-packages/googleapiclient/discovery_cache/__init__.py\", line 36, in autodetect\n",
            "    from google.appengine.api import memcache\n",
            "ModuleNotFoundError: No module named 'google.appengine'\n",
            "\n",
            "During handling of the above exception, another exception occurred:\n",
            "\n",
            "Traceback (most recent call last):\n",
            "  File \"/usr/local/lib/python3.6/dist-packages/googleapiclient/discovery_cache/file_cache.py\", line 33, in <module>\n",
            "    from oauth2client.contrib.locked_file import LockedFile\n",
            "ModuleNotFoundError: No module named 'oauth2client.contrib.locked_file'\n",
            "\n",
            "During handling of the above exception, another exception occurred:\n",
            "\n",
            "Traceback (most recent call last):\n",
            "  File \"/usr/local/lib/python3.6/dist-packages/googleapiclient/discovery_cache/file_cache.py\", line 37, in <module>\n",
            "    from oauth2client.locked_file import LockedFile\n",
            "ModuleNotFoundError: No module named 'oauth2client.locked_file'\n",
            "\n",
            "During handling of the above exception, another exception occurred:\n",
            "\n",
            "Traceback (most recent call last):\n",
            "  File \"/usr/local/lib/python3.6/dist-packages/googleapiclient/discovery_cache/__init__.py\", line 42, in autodetect\n",
            "    from . import file_cache\n",
            "  File \"/usr/local/lib/python3.6/dist-packages/googleapiclient/discovery_cache/file_cache.py\", line 41, in <module>\n",
            "    \"file_cache is unavailable when using oauth2client >= 4.0.0 or google-auth\"\n",
            "ImportError: file_cache is unavailable when using oauth2client >= 4.0.0 or google-auth\n",
            "2021-01-05 11:03:39.615 URL being requested: GET https://www.googleapis.com/discovery/v1/apis/drive/v3/rest\n",
            "2021-01-05 11:03:39.979 URL being requested: POST https://www.googleapis.com/upload/drive/v3/files?alt=json&uploadType=resumable\n",
            "2021-01-05 11:03:40.167 Refreshing due to a 401 (attempt 1/2)\n",
            "2021-01-05 11:03:40.168 Refreshing access_token\n",
            "2021-01-05 11:03:50.588 URL being requested: GET https://www.googleapis.com/drive/v3/files/1r5EbzKR8oHXbbTXRTdNW_kLtt0lL-9EufBmY0vg_h8o/export?mimeType=text%2Fplain&alt=media\n",
            "2021-01-05 11:03:51.236 URL being requested: DELETE https://www.googleapis.com/drive/v3/files/1r5EbzKR8oHXbbTXRTdNW_kLtt0lL-9EufBmY0vg_h8o?\n",
            "Done.\n",
            "Batches: 100% 1/1 [00:00<00:00, 111.37it/s]\n",
            "Batches: 100% 1/1 [00:00<00:00, 147.62it/s]\n",
            "Recognized Text:  \n",
            "\n",
            "os/01/21\n",
            "HYBRID\n",
            "LAYER\n",
            "-M. a.\n",
            ".\n",
            "The structure formed in the dental hard tissue by degradation of the surface and the surface followed by incorporation of water and subsequent polymerization\n",
            "This is the zone where the dense chain of the binding agent micromechanically develops within the inner fibre elastic and outer outer fibers,\n",
            "or\n",
            "and\n",
            "*Hybrid layer is formed a) Etchung removes the layer and removes other fibers, 6) Removes from acid crystals within the inner\n",
            "dentin.\n",
            "e) the\n",
            "the\n",
            "the\n",
            "computer network.\n",
            "* It is\n",
            "(\n",
            "See\n",
            "also called inter-diffusion zone interpenetration.\n",
            "dentin\n",
            "2021-01-05 11:43:23.703 Load pretrained SentenceTransformer: stsb-distilbert-base\n",
            "2021-01-05 11:43:23.704 Did not find folder stsb-distilbert-base\n",
            "2021-01-05 11:43:23.704 Try to download model from server: https://sbert.net/models/stsb-distilbert-base.zip\n",
            "2021-01-05 11:43:23.705 Load SentenceTransformer from folder: /root/.cache/torch/sentence_transformers/sbert.net_models_stsb-distilbert-base\n",
            "2021-01-05 11:43:24.854 Use pytorch device: cuda\n",
            "Got Text File\n",
            "Anaylzing It\n",
            "Forwarding To HTR Network\n",
            "Got Predictions Preprocessing It Results Will Be Aviable In 10 Seconds\n",
            "2021-01-05 11:43:34.657 file_cache is unavailable when using oauth2client >= 4.0.0 or google-auth\n",
            "Traceback (most recent call last):\n",
            "  File \"/usr/local/lib/python3.6/dist-packages/googleapiclient/discovery_cache/__init__.py\", line 36, in autodetect\n",
            "    from google.appengine.api import memcache\n",
            "ModuleNotFoundError: No module named 'google.appengine'\n",
            "\n",
            "During handling of the above exception, another exception occurred:\n",
            "\n",
            "Traceback (most recent call last):\n",
            "  File \"/usr/local/lib/python3.6/dist-packages/googleapiclient/discovery_cache/file_cache.py\", line 33, in <module>\n",
            "    from oauth2client.contrib.locked_file import LockedFile\n",
            "ModuleNotFoundError: No module named 'oauth2client.contrib.locked_file'\n",
            "\n",
            "During handling of the above exception, another exception occurred:\n",
            "\n",
            "Traceback (most recent call last):\n",
            "  File \"/usr/local/lib/python3.6/dist-packages/googleapiclient/discovery_cache/file_cache.py\", line 37, in <module>\n",
            "    from oauth2client.locked_file import LockedFile\n",
            "ModuleNotFoundError: No module named 'oauth2client.locked_file'\n",
            "\n",
            "During handling of the above exception, another exception occurred:\n",
            "\n",
            "Traceback (most recent call last):\n",
            "  File \"/usr/local/lib/python3.6/dist-packages/googleapiclient/discovery_cache/__init__.py\", line 42, in autodetect\n",
            "    from . import file_cache\n",
            "  File \"/usr/local/lib/python3.6/dist-packages/googleapiclient/discovery_cache/file_cache.py\", line 41, in <module>\n",
            "    \"file_cache is unavailable when using oauth2client >= 4.0.0 or google-auth\"\n",
            "ImportError: file_cache is unavailable when using oauth2client >= 4.0.0 or google-auth\n",
            "2021-01-05 11:43:34.657 URL being requested: GET https://www.googleapis.com/discovery/v1/apis/drive/v3/rest\n",
            "2021-01-05 11:43:34.952 URL being requested: POST https://www.googleapis.com/upload/drive/v3/files?alt=json&uploadType=resumable\n",
            "2021-01-05 11:43:44.891 URL being requested: GET https://www.googleapis.com/drive/v3/files/1bi93ygWFjggDBX9zgiSV5kLGwe1AisT3EpSV7rt5h-8/export?mimeType=text%2Fplain&alt=media\n",
            "2021-01-05 11:43:45.571 URL being requested: DELETE https://www.googleapis.com/drive/v3/files/1bi93ygWFjggDBX9zgiSV5kLGwe1AisT3EpSV7rt5h-8?\n",
            "Done.\n",
            "Batches: 100% 1/1 [00:00<00:00, 100.62it/s]\n",
            "Batches: 100% 1/1 [00:00<00:00, 158.23it/s]\n",
            "Recognized Text:  \n",
            "\n",
            "os/01/21\n",
            "HYBRID\n",
            "LAYER\n",
            "-M. a.\n",
            ".\n",
            "The structure formed in the dental hard tissue by degradation of the surface and the surface followed by incorporation of water and subsequent polymerization\n",
            "This is the zone where the dense chain of the binding agent micromechanically develops within the inner fibre elastic and outer outer fibers,\n",
            "or\n",
            "and\n",
            "*Hybrid layer is formed a) Etchung removes the layer and removes other fibers, 6) Removes from acid crystals within the inner\n",
            "dentin.\n",
            "e) the\n",
            "the\n",
            "the\n",
            "computer network.\n",
            "* It is\n",
            "(\n",
            "See\n",
            "also called inter-diffusion zone interpenetration.\n",
            "dentin\n",
            "2021-01-05 11:44:49.396 Load pretrained SentenceTransformer: stsb-distilbert-base\n",
            "2021-01-05 11:44:49.397 Did not find folder stsb-distilbert-base\n",
            "2021-01-05 11:44:49.397 Try to download model from server: https://sbert.net/models/stsb-distilbert-base.zip\n",
            "2021-01-05 11:44:49.398 Load SentenceTransformer from folder: /root/.cache/torch/sentence_transformers/sbert.net_models_stsb-distilbert-base\n",
            "2021-01-05 11:44:50.545 Use pytorch device: cuda\n",
            "Got Text File\n",
            "Anaylzing It\n",
            "Forwarding To HTR Network\n",
            "Got Predictions Preprocessing It Results Will Be Aviable In 10 Seconds\n",
            "2021-01-05 11:45:02.922 file_cache is unavailable when using oauth2client >= 4.0.0 or google-auth\n",
            "Traceback (most recent call last):\n",
            "  File \"/usr/local/lib/python3.6/dist-packages/googleapiclient/discovery_cache/__init__.py\", line 36, in autodetect\n",
            "    from google.appengine.api import memcache\n",
            "ModuleNotFoundError: No module named 'google.appengine'\n",
            "\n",
            "During handling of the above exception, another exception occurred:\n",
            "\n",
            "Traceback (most recent call last):\n",
            "  File \"/usr/local/lib/python3.6/dist-packages/googleapiclient/discovery_cache/file_cache.py\", line 33, in <module>\n",
            "    from oauth2client.contrib.locked_file import LockedFile\n",
            "ModuleNotFoundError: No module named 'oauth2client.contrib.locked_file'\n",
            "\n",
            "During handling of the above exception, another exception occurred:\n",
            "\n",
            "Traceback (most recent call last):\n",
            "  File \"/usr/local/lib/python3.6/dist-packages/googleapiclient/discovery_cache/file_cache.py\", line 37, in <module>\n",
            "    from oauth2client.locked_file import LockedFile\n",
            "ModuleNotFoundError: No module named 'oauth2client.locked_file'\n",
            "\n",
            "During handling of the above exception, another exception occurred:\n",
            "\n",
            "Traceback (most recent call last):\n",
            "  File \"/usr/local/lib/python3.6/dist-packages/googleapiclient/discovery_cache/__init__.py\", line 42, in autodetect\n",
            "    from . import file_cache\n",
            "  File \"/usr/local/lib/python3.6/dist-packages/googleapiclient/discovery_cache/file_cache.py\", line 41, in <module>\n",
            "    \"file_cache is unavailable when using oauth2client >= 4.0.0 or google-auth\"\n",
            "ImportError: file_cache is unavailable when using oauth2client >= 4.0.0 or google-auth\n",
            "2021-01-05 11:45:02.923 URL being requested: GET https://www.googleapis.com/discovery/v1/apis/drive/v3/rest\n",
            "2021-01-05 11:45:03.344 URL being requested: POST https://www.googleapis.com/upload/drive/v3/files?alt=json&uploadType=resumable\n",
            "\u001b[34m  Stopping...\u001b[0m\n"
          ],
          "name": "stdout"
        }
      ]
    },
    {
      "cell_type": "code",
      "metadata": {
        "id": "a8_HufMZCGPK",
        "colab": {
          "base_uri": "https://localhost:8080/",
          "height": 299,
          "referenced_widgets": [
            "cf92f9e79b4e4a4c957f2cb1d63acc16",
            "cd18734a3bde43d0bfecdfc937b9fe7e",
            "9dc7b7fcab50495ebe253210ce8880c5",
            "1b179c5a66a84b99832239e1c09bc049",
            "5e016406553b4417909a0b73328afd0d",
            "4a2977714b2c4e4e982fb48f3d15604d",
            "544d83cc7cd94b2f8adfb240af395b24",
            "ce4e87facde24977ad7b9ff2000556d6",
            "503615d8f9cc488281bcf4f1e37014e3",
            "b45cbbdeb2a143efb33c3c53459ec5f4",
            "0373ab74fd4a4e64a022affa0b6fa0f1",
            "774319eeff1f42e0a1b0399b9896470f",
            "ae611ca3cef048048ffa6084934310b7",
            "595cbfccf07e4c21b1719e6c30cda706",
            "b91e9b4353f543abbbcb6be34b14b380",
            "98c8c93131f44606b2c26e0926831d65",
            "ca64cae3510b4b958bbafcf5a4133781",
            "33cb8e5fac764da2b31c12b226b70221",
            "8da967f910fa4a679b7ed9c0ab14cbff",
            "4a8f757b0fbe40efb30c64ac850fa272",
            "45b9fa9ffc214172ab4f8e8150819b7f",
            "507f9878855346ef8a0cc3a8d031554f",
            "835b5bb5066e4c558889f17950326424",
            "bc5f171373ce49019c26c6eb1d750ca9",
            "e0843c0cf73c4e2d9fc948e35c30e37b",
            "ba16cbe6cf1847659b862953c028d38a",
            "5514bbcdc7fe4fae971b4364ef912f77",
            "cfcee3f8ccad4fcc88ce6e4cfacfc550",
            "69f3e3d60fdd4fc09daa26002a19ada2",
            "13a1a8b4bf624e65bb3654d6db57970d",
            "3694c81916c34ae6a79b82138a0c1ea0",
            "ac3468c1704849e0ac773738e9c1d19b",
            "7e3fb4523f9842dea191a5d8fda50d08",
            "57f7a24f0fe7417bb753fcc8a8b7b540",
            "b1c85ca84d7d427b9c3b1504bcf7d328",
            "251af6961f4a4f6cbbe23c985ee7a327",
            "d75795837bc84e72859683ccca2e058a",
            "63a16c0ec3c84b1dbe85dd173cf40dc5",
            "847839d89d434eb0afe8f6de7637f296",
            "d782591968a14e7c8f6e4ea376ebb7b8"
          ]
        },
        "outputId": "219289c6-84d7-4fb7-f471-947e36b352f4"
      },
      "source": [
        "from transformers import pipeline\n",
        "\n",
        "text_generator = pipeline(\"text-generation\")\n",
        "print(text_generator(\"I'm Adithya and I live in NewYork, for breakfast I eat\", max_length=50, do_sample=False))\n"
      ],
      "execution_count": null,
      "outputs": [
        {
          "output_type": "display_data",
          "data": {
            "application/vnd.jupyter.widget-view+json": {
              "model_id": "cf92f9e79b4e4a4c957f2cb1d63acc16",
              "version_minor": 0,
              "version_major": 2
            },
            "text/plain": [
              "HBox(children=(FloatProgress(value=0.0, description='Downloading', max=665.0, style=ProgressStyle(description_…"
            ]
          },
          "metadata": {
            "tags": []
          }
        },
        {
          "output_type": "stream",
          "text": [
            "\n"
          ],
          "name": "stdout"
        },
        {
          "output_type": "display_data",
          "data": {
            "application/vnd.jupyter.widget-view+json": {
              "model_id": "503615d8f9cc488281bcf4f1e37014e3",
              "version_minor": 0,
              "version_major": 2
            },
            "text/plain": [
              "HBox(children=(FloatProgress(value=0.0, description='Downloading', max=548118077.0, style=ProgressStyle(descri…"
            ]
          },
          "metadata": {
            "tags": []
          }
        },
        {
          "output_type": "stream",
          "text": [
            "\n"
          ],
          "name": "stdout"
        },
        {
          "output_type": "display_data",
          "data": {
            "application/vnd.jupyter.widget-view+json": {
              "model_id": "ca64cae3510b4b958bbafcf5a4133781",
              "version_minor": 0,
              "version_major": 2
            },
            "text/plain": [
              "HBox(children=(FloatProgress(value=0.0, description='Downloading', max=1042301.0, style=ProgressStyle(descript…"
            ]
          },
          "metadata": {
            "tags": []
          }
        },
        {
          "output_type": "stream",
          "text": [
            "\n"
          ],
          "name": "stdout"
        },
        {
          "output_type": "display_data",
          "data": {
            "application/vnd.jupyter.widget-view+json": {
              "model_id": "e0843c0cf73c4e2d9fc948e35c30e37b",
              "version_minor": 0,
              "version_major": 2
            },
            "text/plain": [
              "HBox(children=(FloatProgress(value=0.0, description='Downloading', max=456318.0, style=ProgressStyle(descripti…"
            ]
          },
          "metadata": {
            "tags": []
          }
        },
        {
          "output_type": "stream",
          "text": [
            "\n"
          ],
          "name": "stdout"
        },
        {
          "output_type": "display_data",
          "data": {
            "application/vnd.jupyter.widget-view+json": {
              "model_id": "7e3fb4523f9842dea191a5d8fda50d08",
              "version_minor": 0,
              "version_major": 2
            },
            "text/plain": [
              "HBox(children=(FloatProgress(value=0.0, description='Downloading', max=1355256.0, style=ProgressStyle(descript…"
            ]
          },
          "metadata": {
            "tags": []
          }
        },
        {
          "output_type": "stream",
          "text": [
            "\n",
            "[{'generated_text': \"I'm Adithya and I live in NewYork, for breakfast I eat a lot of vegetables and I'm a vegetarian. I'm a vegetarian, but I'm not a vegetarian. I'm a vegetarian. I'm a vegetarian. I'm\"}]\n"
          ],
          "name": "stdout"
        }
      ]
    },
    {
      "cell_type": "code",
      "metadata": {
        "id": "jGqt7MNlcrEH"
      },
      "source": [
        ""
      ],
      "execution_count": null,
      "outputs": []
    }
  ]
}